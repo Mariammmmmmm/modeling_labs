{
  "nbformat": 4,
  "nbformat_minor": 0,
  "metadata": {
    "colab": {
      "provenance": [],
      "collapsed_sections": [],
      "authorship_tag": "ABX9TyND95f1UtbrL7M+PV8HwZUe",
      "include_colab_link": true
    },
    "kernelspec": {
      "name": "python3",
      "display_name": "Python 3"
    },
    "language_info": {
      "name": "python"
    }
  },
  "cells": [
    {
      "cell_type": "markdown",
      "metadata": {
        "id": "view-in-github",
        "colab_type": "text"
      },
      "source": [
        "<a href=\"https://colab.research.google.com/github/Mariammmmmmm/modeling_labs/blob/main/%D0%9B%D0%B0%D0%B1%D0%BE%D1%80%D0%B0%D1%82%D0%BE%D1%80%D0%BD%D0%B0%D1%8F_%D1%80%D0%B0%D0%B1%D0%BE%D1%82%D0%B0_%E2%84%962_%D0%BF%D0%BE_%D0%BC%D0%BE%D0%B4%D0%B5%D0%BB%D0%B8%D1%80%D0%BE%D0%B2%D0%B0%D0%BD%D0%B8%D1%8E.ipynb\" target=\"_parent\"><img src=\"https://colab.research.google.com/assets/colab-badge.svg\" alt=\"Open In Colab\"/></a>"
      ]
    },
    {
      "cell_type": "code",
      "execution_count": 1,
      "metadata": {
        "colab": {
          "base_uri": "https://localhost:8080/"
        },
        "id": "9_1yXE7jaJKX",
        "outputId": "2c0af913-02d7-4fff-91bc-41f9535ea846"
      },
      "outputs": [
        {
          "output_type": "stream",
          "name": "stdout",
          "text": [
            "Looking in indexes: https://pypi.org/simple, https://us-python.pkg.dev/colab-wheels/public/simple/\n",
            "Collecting pyspark\n",
            "  Downloading pyspark-3.3.0.tar.gz (281.3 MB)\n",
            "\u001b[K     |████████████████████████████████| 281.3 MB 64 kB/s \n",
            "\u001b[?25hCollecting py4j==0.10.9.5\n",
            "  Downloading py4j-0.10.9.5-py2.py3-none-any.whl (199 kB)\n",
            "\u001b[K     |████████████████████████████████| 199 kB 62.7 MB/s \n",
            "\u001b[?25hBuilding wheels for collected packages: pyspark\n",
            "  Building wheel for pyspark (setup.py) ... \u001b[?25l\u001b[?25hdone\n",
            "  Created wheel for pyspark: filename=pyspark-3.3.0-py2.py3-none-any.whl size=281764026 sha256=17f505707f9c2edd0de5832d0c51f5597ca8f456ce32a2c31713741a5d547803\n",
            "  Stored in directory: /root/.cache/pip/wheels/7a/8e/1b/f73a52650d2e5f337708d9f6a1750d451a7349a867f928b885\n",
            "Successfully built pyspark\n",
            "Installing collected packages: py4j, pyspark\n",
            "Successfully installed py4j-0.10.9.5 pyspark-3.3.0\n"
          ]
        }
      ],
      "source": [
        "!pip install pyspark"
      ]
    },
    {
      "cell_type": "code",
      "source": [
        "import pyspark\n",
        "from pyspark.sql import SparkSession\n",
        "spark=SparkSession.builder.appName('Dataframe').getOrCreate()\n",
        "spark"
      ],
      "metadata": {
        "colab": {
          "base_uri": "https://localhost:8080/",
          "height": 219
        },
        "id": "f-niHIv1aabl",
        "outputId": "abd5358d-6083-4b40-f863-db60d774d1be"
      },
      "execution_count": 2,
      "outputs": [
        {
          "output_type": "execute_result",
          "data": {
            "text/plain": [
              "<pyspark.sql.session.SparkSession at 0x7f6ac34de0d0>"
            ],
            "text/html": [
              "\n",
              "            <div>\n",
              "                <p><b>SparkSession - in-memory</b></p>\n",
              "                \n",
              "        <div>\n",
              "            <p><b>SparkContext</b></p>\n",
              "\n",
              "            <p><a href=\"http://3ff9d9968865:4040\">Spark UI</a></p>\n",
              "\n",
              "            <dl>\n",
              "              <dt>Version</dt>\n",
              "                <dd><code>v3.3.0</code></dd>\n",
              "              <dt>Master</dt>\n",
              "                <dd><code>local[*]</code></dd>\n",
              "              <dt>AppName</dt>\n",
              "                <dd><code>Dataframe</code></dd>\n",
              "            </dl>\n",
              "        </div>\n",
              "        \n",
              "            </div>\n",
              "        "
            ]
          },
          "metadata": {},
          "execution_count": 2
        }
      ]
    },
    {
      "cell_type": "code",
      "source": [
        "part0 = spark.read.parquet('part_0.parquet')\n",
        "part0 = part0.dropna()\n",
        "part1 = spark.read.parquet('part_1.parquet')\n",
        "part1 = part1.dropna()\n",
        "part2 = spark.read.parquet('part_2.parquet')\n",
        "part2 = part2.dropna()\n",
        "part3 = spark.read.parquet('part_3.parquet')\n",
        "part3 = part3.dropna()\n",
        "part4 = spark.read.parquet('part_4.parquet')\n",
        "part4 = part4.dropna()\n",
        "part5 = spark.read.parquet('part_5.parquet')\n",
        "part5 = part5.dropna()\n",
        "part0 = part0.union(part1).union(part2)\n",
        "part0 = part0.dropna()\n",
        "part0_test = part3.union(part4).union(part5)\n",
        "part0.show(5)"
      ],
      "metadata": {
        "colab": {
          "base_uri": "https://localhost:8080/"
        },
        "id": "dOFVcRWdadQr",
        "outputId": "f4facff1-52d4-478a-d0c4-bfadb90ba13f"
      },
      "execution_count": 35,
      "outputs": [
        {
          "output_type": "stream",
          "name": "stdout",
          "text": [
            "+------+-------------------+--------+--------------+---------+--------------+--------------------+--------------+--------------+-----------+---+-------+----+------------+-----------+----+-----------+----------+---------+------------------+-----------------+\n",
            "|app_id|               amnt|currency|operation_kind|card_type|operation_type|operation_type_group|ecommerce_flag|payment_system|income_flag|mcc|country|city|mcc_category|day_of_week|hour|days_before|weekofyear|hour_diff|transaction_number|__index_level_0__|\n",
            "+------+-------------------+--------+--------------+---------+--------------+--------------------+--------------+--------------+-----------+---+-------+----+------------+-----------+----+-----------+----------+---------+------------------+-----------------+\n",
            "|     0| 0.4654254330729043|       1|             4|       98|             4|                   2|             3|             7|          3|  2|      1|  37|           2|          4|  19|        351|        34|       -1|                 1|                0|\n",
            "|     0|                0.0|       1|             2|       98|             7|                   1|             3|             7|          3|  2|      1|  49|           2|          4|  20|        351|        34|        0|                 2|                1|\n",
            "|     0| 0.5211518246354306|       1|             2|       98|             3|                   1|             3|             7|          3|  2|      1|  37|           2|          4|  20|        351|        34|        0|                 3|                2|\n",
            "|     0|0.35607835388631826|       1|             1|        5|             2|                   1|             3|             7|          3| 10|      1|  49|           7|          2|   0|        348|        34|       52|                 4|                3|\n",
            "|     0|                0.0|       1|             2|       98|             7|                   1|             3|             7|          3|  2|      1|  49|           2|          4|  16|        337|        53|      280|                 5|                4|\n",
            "+------+-------------------+--------+--------------+---------+--------------+--------------------+--------------+--------------+-----------+---+-------+----+------------+-----------+----+-----------+----------+---------+------------------+-----------------+\n",
            "only showing top 5 rows\n",
            "\n"
          ]
        }
      ]
    },
    {
      "cell_type": "code",
      "source": [
        "part0_test.show(5)"
      ],
      "metadata": {
        "colab": {
          "base_uri": "https://localhost:8080/"
        },
        "id": "5hkCzr9ReyY6",
        "outputId": "f70225ed-4403-46a5-82ea-f9e2e222e6bf"
      },
      "execution_count": 36,
      "outputs": [
        {
          "output_type": "stream",
          "name": "stdout",
          "text": [
            "+------+-------------------+--------+--------------+---------+--------------+--------------------+--------------+--------------+-----------+---+-------+----+------------+-----------+----+-----------+----------+---------+------------------+-----------------+\n",
            "|app_id|               amnt|currency|operation_kind|card_type|operation_type|operation_type_group|ecommerce_flag|payment_system|income_flag|mcc|country|city|mcc_category|day_of_week|hour|days_before|weekofyear|hour_diff|transaction_number|__index_level_0__|\n",
            "+------+-------------------+--------+--------------+---------+--------------+--------------------+--------------+--------------+-----------+---+-------+----+------------+-----------+----+-----------+----------+---------+------------------+-----------------+\n",
            "| 70093| 0.3349274118365794|       1|             1|       88|             2|                   1|             1|             2|          1|  1|      1|  73|           1|          2|  16|        357|        43|       -1|                 1|           334358|\n",
            "| 70093| 0.2865484713713222|       1|             1|       88|             2|                   1|             1|             2|          1|  4|      1|  73|           3|          6|  17|        355|         8|       49|                 2|           334359|\n",
            "| 70093|0.26226303129182493|       1|             1|       88|             2|                   1|             1|             2|          1|  4|      1|  73|           3|          6|  17|        355|         8|        0|                 3|           334360|\n",
            "| 70093| 0.3018869794606233|       1|             1|       88|             2|                   1|             1|             2|          1|  1|      1|  73|           1|          6|  17|        355|         8|        0|                 4|           334361|\n",
            "| 70093| 0.3002869891265221|       1|             1|       88|             2|                   1|             1|             2|          1|  4|      1|  73|           3|          4|  16|        353|         8|       47|                 5|           334362|\n",
            "+------+-------------------+--------+--------------+---------+--------------+--------------------+--------------+--------------+-----------+---+-------+----+------------+-----------+----+-----------+----------+---------+------------------+-----------------+\n",
            "only showing top 5 rows\n",
            "\n"
          ]
        }
      ]
    },
    {
      "cell_type": "code",
      "source": [
        "part0.count()"
      ],
      "metadata": {
        "colab": {
          "base_uri": "https://localhost:8080/"
        },
        "id": "ik1__SxTaenz",
        "outputId": "581d2ea1-26a6-485f-9e6c-b5a8c43d92c8"
      },
      "execution_count": 37,
      "outputs": [
        {
          "output_type": "execute_result",
          "data": {
            "text/plain": [
              "16227169"
            ]
          },
          "metadata": {},
          "execution_count": 37
        }
      ]
    },
    {
      "cell_type": "code",
      "source": [
        "train_target = spark.read.csv('train_target.csv', header=True)\n",
        "train_target = train_target.dropna()\n",
        "train_target.show(5)"
      ],
      "metadata": {
        "id": "ptEQVw-Rah7Z",
        "colab": {
          "base_uri": "https://localhost:8080/"
        },
        "outputId": "a82811b9-140f-4fb5-d431-81a02b768c16"
      },
      "execution_count": 38,
      "outputs": [
        {
          "output_type": "stream",
          "name": "stdout",
          "text": [
            "+------+-------+----+\n",
            "|app_id|product|flag|\n",
            "+------+-------+----+\n",
            "|     0|      3|   0|\n",
            "|     1|      1|   0|\n",
            "|     2|      1|   0|\n",
            "|     3|      1|   0|\n",
            "|     4|      1|   0|\n",
            "+------+-------+----+\n",
            "only showing top 5 rows\n",
            "\n"
          ]
        }
      ]
    },
    {
      "cell_type": "code",
      "source": [
        "splitweights = [0.70,0.30]\n",
        "seed = 10\n",
        "traindf, testdf = train_target.randomSplit(splitweights, seed)\n",
        "traindf.count()"
      ],
      "metadata": {
        "colab": {
          "base_uri": "https://localhost:8080/"
        },
        "id": "bQ_aKof3_Lnq",
        "outputId": "784a7817-ad7d-4734-d1bf-07bf5c2a404b"
      },
      "execution_count": 39,
      "outputs": [
        {
          "output_type": "execute_result",
          "data": {
            "text/plain": [
              "674062"
            ]
          },
          "metadata": {},
          "execution_count": 39
        }
      ]
    },
    {
      "cell_type": "code",
      "source": [
        "testdf.count()"
      ],
      "metadata": {
        "colab": {
          "base_uri": "https://localhost:8080/"
        },
        "id": "U1-SHB-KRTVD",
        "outputId": "a24c6574-321d-400a-dd46-04402074f9dc"
      },
      "execution_count": 40,
      "outputs": [
        {
          "output_type": "execute_result",
          "data": {
            "text/plain": [
              "289749"
            ]
          },
          "metadata": {},
          "execution_count": 40
        }
      ]
    },
    {
      "cell_type": "code",
      "source": [
        "from pyspark.sql.types import IntegerType\n",
        "part0 = part0.join(traindf, (part0.app_id == traindf.app_id))\n",
        "part0 = part0.withColumn(\"flag\", part0[\"flag\"].cast(IntegerType()))\n",
        "part0.show(5)"
      ],
      "metadata": {
        "colab": {
          "base_uri": "https://localhost:8080/"
        },
        "id": "QSbToJVgNJi0",
        "outputId": "dd998684-2705-4437-dfd0-1349aa5c0216"
      },
      "execution_count": 41,
      "outputs": [
        {
          "output_type": "stream",
          "name": "stdout",
          "text": [
            "+------+-------------------+--------+--------------+---------+--------------+--------------------+--------------+--------------+-----------+---+-------+----+------------+-----------+----+-----------+----------+---------+------------------+-----------------+------+-------+----+\n",
            "|app_id|               amnt|currency|operation_kind|card_type|operation_type|operation_type_group|ecommerce_flag|payment_system|income_flag|mcc|country|city|mcc_category|day_of_week|hour|days_before|weekofyear|hour_diff|transaction_number|__index_level_0__|app_id|product|flag|\n",
            "+------+-------------------+--------+--------------+---------+--------------+--------------------+--------------+--------------+-----------+---+-------+----+------------+-----------+----+-----------+----------+---------+------------------+-----------------+------+-------+----+\n",
            "|     0| 0.4654254330729043|       1|             4|       98|             4|                   2|             3|             7|          3|  2|      1|  37|           2|          4|  19|        351|        34|       -1|                 1|                0|     0|      3|   0|\n",
            "|     0|                0.0|       1|             2|       98|             7|                   1|             3|             7|          3|  2|      1|  49|           2|          4|  20|        351|        34|        0|                 2|                1|     0|      3|   0|\n",
            "|     0| 0.5211518246354306|       1|             2|       98|             3|                   1|             3|             7|          3|  2|      1|  37|           2|          4|  20|        351|        34|        0|                 3|                2|     0|      3|   0|\n",
            "|     0|0.35607835388631826|       1|             1|        5|             2|                   1|             3|             7|          3| 10|      1|  49|           7|          2|   0|        348|        34|       52|                 4|                3|     0|      3|   0|\n",
            "|     0|                0.0|       1|             2|       98|             7|                   1|             3|             7|          3|  2|      1|  49|           2|          4|  16|        337|        53|      280|                 5|                4|     0|      3|   0|\n",
            "+------+-------------------+--------+--------------+---------+--------------+--------------------+--------------+--------------+-----------+---+-------+----+------------+-----------+----+-----------+----------+---------+------------------+-----------------+------+-------+----+\n",
            "only showing top 5 rows\n",
            "\n"
          ]
        }
      ]
    },
    {
      "cell_type": "code",
      "source": [
        "part0_test = part0_test.join(testdf, (part0_test.app_id == testdf.app_id))\n",
        "part0_test = part0_test.withColumn(\"flag\", part0_test[\"flag\"].cast(IntegerType()))\n",
        "part0_test.show(5)"
      ],
      "metadata": {
        "colab": {
          "base_uri": "https://localhost:8080/"
        },
        "id": "SoqylrU7Nags",
        "outputId": "4f7bb383-0f86-45d1-b9c8-c5a0aa353af7"
      },
      "execution_count": 42,
      "outputs": [
        {
          "output_type": "stream",
          "name": "stdout",
          "text": [
            "+------+-------------------+--------+--------------+---------+--------------+--------------------+--------------+--------------+-----------+---+-------+----+------------+-----------+----+-----------+----------+---------+------------------+-----------------+------+-------+----+\n",
            "|app_id|               amnt|currency|operation_kind|card_type|operation_type|operation_type_group|ecommerce_flag|payment_system|income_flag|mcc|country|city|mcc_category|day_of_week|hour|days_before|weekofyear|hour_diff|transaction_number|__index_level_0__|app_id|product|flag|\n",
            "+------+-------------------+--------+--------------+---------+--------------+--------------------+--------------+--------------+-----------+---+-------+----+------------+-----------+----+-----------+----------+---------+------------------+-----------------+------+-------+----+\n",
            "| 70094|0.47905506364463324|       1|             4|      175|             4|                   2|             1|             3|          2|  2|      1|   4|           2|          4|   9|        353|         8|       -1|                 1|           352520| 70094|      0|   0|\n",
            "| 70094|0.47905506364463324|       1|             4|      175|             4|                   2|             1|             3|          2|  2|      1|   4|           2|          1|   6|        330|        44|      549|                 2|           352521| 70094|      0|   0|\n",
            "| 70094|0.47905506364463324|       1|             4|      175|             4|                   2|             1|             3|          2|  2|      1|   4|           2|          3|   9|        289|        10|      987|                 3|           352522| 70094|      0|   0|\n",
            "| 70094|0.47905506364463324|       1|             4|      175|             4|                   2|             1|             3|          2|  2|      1|   4|           2|          5|   5|        263|         6|      620|                 4|           352523| 70094|      0|   0|\n",
            "| 70094|0.47905506364463324|       1|             4|      175|             4|                   2|             1|             3|          2|  2|      1|   4|           2|          2|  10|        238|        37|      605|                 5|           352524| 70094|      0|   0|\n",
            "+------+-------------------+--------+--------------+---------+--------------+--------------------+--------------+--------------+-----------+---+-------+----+------------+-----------+----+-----------+----------+---------+------------------+-----------------+------+-------+----+\n",
            "only showing top 5 rows\n",
            "\n"
          ]
        }
      ]
    },
    {
      "cell_type": "code",
      "source": [
        "part0_test.printSchema"
      ],
      "metadata": {
        "colab": {
          "base_uri": "https://localhost:8080/"
        },
        "id": "zo_dnmn9ySz1",
        "outputId": "4048b0e0-f569-4150-efb7-d6f5851c7044"
      },
      "execution_count": 43,
      "outputs": [
        {
          "output_type": "execute_result",
          "data": {
            "text/plain": [
              "<bound method DataFrame.printSchema of DataFrame[app_id: int, amnt: double, currency: int, operation_kind: int, card_type: int, operation_type: int, operation_type_group: int, ecommerce_flag: int, payment_system: int, income_flag: int, mcc: int, country: int, city: int, mcc_category: int, day_of_week: int, hour: int, days_before: int, weekofyear: int, hour_diff: bigint, transaction_number: int, __index_level_0__: bigint, app_id: string, product: string, flag: int]>"
            ]
          },
          "metadata": {},
          "execution_count": 43
        }
      ]
    },
    {
      "cell_type": "code",
      "source": [
        "cols = list(set(part0.columns))\n",
        "cols"
      ],
      "metadata": {
        "colab": {
          "base_uri": "https://localhost:8080/"
        },
        "id": "-_Svpad8ou2Q",
        "outputId": "97499f63-afe2-4941-eed2-72826180df8e"
      },
      "execution_count": 44,
      "outputs": [
        {
          "output_type": "execute_result",
          "data": {
            "text/plain": [
              "['operation_kind',\n",
              " 'city',\n",
              " 'day_of_week',\n",
              " 'weekofyear',\n",
              " 'currency',\n",
              " 'days_before',\n",
              " 'hour_diff',\n",
              " 'operation_type',\n",
              " 'payment_system',\n",
              " 'app_id',\n",
              " 'amnt',\n",
              " 'product',\n",
              " 'flag',\n",
              " 'transaction_number',\n",
              " 'hour',\n",
              " 'mcc',\n",
              " 'country',\n",
              " 'income_flag',\n",
              " '__index_level_0__',\n",
              " 'operation_type_group',\n",
              " 'ecommerce_flag',\n",
              " 'card_type',\n",
              " 'mcc_category']"
            ]
          },
          "metadata": {},
          "execution_count": 44
        }
      ]
    },
    {
      "cell_type": "code",
      "source": [
        "print(set(part0.columns) - set('flag'))"
      ],
      "metadata": {
        "colab": {
          "base_uri": "https://localhost:8080/"
        },
        "id": "dza_uFc6romH",
        "outputId": "cc2f3e69-283f-4d3b-ee89-6d8c38a0e91e"
      },
      "execution_count": 45,
      "outputs": [
        {
          "output_type": "stream",
          "name": "stdout",
          "text": [
            "{'operation_kind', 'city', 'flag', 'day_of_week', 'weekofyear', 'hour', 'currency', 'days_before', 'hour_diff', 'operation_type', 'mcc', 'payment_system', 'country', 'operation_type_group', 'app_id', 'income_flag', '__index_level_0__', 'amnt', 'transaction_number', 'ecommerce_flag', 'card_type', 'mcc_category', 'product'}\n"
          ]
        }
      ]
    },
    {
      "cell_type": "code",
      "source": [
        "len(cols)"
      ],
      "metadata": {
        "colab": {
          "base_uri": "https://localhost:8080/"
        },
        "id": "juH-8qeprvFv",
        "outputId": "3fa15f8b-0332-42d5-eeaa-09ced7896663"
      },
      "execution_count": 46,
      "outputs": [
        {
          "output_type": "execute_result",
          "data": {
            "text/plain": [
              "23"
            ]
          },
          "metadata": {},
          "execution_count": 46
        }
      ]
    },
    {
      "cell_type": "code",
      "source": [
        "arr = ['hour_diff',\n",
        " 'mcc',\n",
        " 'amnt',\n",
        " 'mcc_category',\n",
        " 'days_before',\n",
        " 'country',\n",
        " 'weekofyear',\n",
        " 'operation_kind',\n",
        " 'city',\n",
        " '__index_level_0__',\n",
        " 'hour',\n",
        " 'income_flag',\n",
        " 'card_type',\n",
        " 'currency',\n",
        " 'day_of_week',\n",
        " 'payment_system',\n",
        " 'ecommerce_flag',\n",
        " 'operation_type_group',\n",
        " 'transaction_number',\n",
        " 'operation_type']"
      ],
      "metadata": {
        "id": "MQ5r3sQCP0Gq"
      },
      "execution_count": 86,
      "outputs": []
    },
    {
      "cell_type": "code",
      "source": [
        "from pyspark.ml.feature import VectorAssembler\n",
        "assembler = VectorAssembler(inputCols=arr, outputCol='features')\n",
        "output = assembler.transform(part0)\n",
        "df_final_train = output.select('features', 'flag')\n",
        "df_final_train.show(5)"
      ],
      "metadata": {
        "id": "rG5NiHoupKCB",
        "colab": {
          "base_uri": "https://localhost:8080/"
        },
        "outputId": "7d7ed802-9e17-4ffc-a60f-2b0adedd36b5"
      },
      "execution_count": 87,
      "outputs": [
        {
          "output_type": "stream",
          "name": "stdout",
          "text": [
            "+--------------------+----+\n",
            "|            features|flag|\n",
            "+--------------------+----+\n",
            "|[-1.0,2.0,0.46542...|   0|\n",
            "|[0.0,2.0,0.0,2.0,...|   0|\n",
            "|[0.0,2.0,0.521151...|   0|\n",
            "|[52.0,10.0,0.3560...|   0|\n",
            "|[280.0,2.0,0.0,2....|   0|\n",
            "+--------------------+----+\n",
            "only showing top 5 rows\n",
            "\n"
          ]
        }
      ]
    },
    {
      "cell_type": "code",
      "source": [
        "from pyspark.ml.feature import VectorAssembler\n",
        "assembler = VectorAssembler(inputCols=arr, outputCol='features')\n",
        "output = assembler.transform(part0)\n",
        "df_final_test = output.select('features', 'flag')\n",
        "df_final_test.show(5)"
      ],
      "metadata": {
        "colab": {
          "base_uri": "https://localhost:8080/"
        },
        "id": "NqPJdnYUwH4J",
        "outputId": "f30e59d9-bb7f-4c5f-a070-3081a8b2330a"
      },
      "execution_count": 88,
      "outputs": [
        {
          "output_type": "stream",
          "name": "stdout",
          "text": [
            "+--------------------+----+\n",
            "|            features|flag|\n",
            "+--------------------+----+\n",
            "|[-1.0,2.0,0.46542...|   0|\n",
            "|[0.0,2.0,0.0,2.0,...|   0|\n",
            "|[0.0,2.0,0.521151...|   0|\n",
            "|[52.0,10.0,0.3560...|   0|\n",
            "|[280.0,2.0,0.0,2....|   0|\n",
            "+--------------------+----+\n",
            "only showing top 5 rows\n",
            "\n"
          ]
        }
      ]
    },
    {
      "cell_type": "code",
      "source": [
        "df_final_train.printSchema"
      ],
      "metadata": {
        "colab": {
          "base_uri": "https://localhost:8080/"
        },
        "id": "VccN5yF8xtmy",
        "outputId": "f1f5c7eb-fe64-4b86-d12b-40b158854d04"
      },
      "execution_count": 89,
      "outputs": [
        {
          "output_type": "execute_result",
          "data": {
            "text/plain": [
              "<bound method DataFrame.printSchema of DataFrame[features: vector, flag: int]>"
            ]
          },
          "metadata": {},
          "execution_count": 89
        }
      ]
    },
    {
      "cell_type": "code",
      "source": [
        "from pyspark.ml.classification import LogisticRegression\n",
        "lr = LogisticRegression(labelCol=\"flag\")\n",
        "lrm = lr.fit(df_final_train)\n",
        "lrm"
      ],
      "metadata": {
        "colab": {
          "base_uri": "https://localhost:8080/"
        },
        "id": "sO1j5zfTwsdG",
        "outputId": "7f1c6cdd-fba6-43aa-9947-ac37ea0bc399"
      },
      "execution_count": 90,
      "outputs": [
        {
          "output_type": "execute_result",
          "data": {
            "text/plain": [
              "LogisticRegressionModel: uid=LogisticRegression_9e0237e210a9, numClasses=2, numFeatures=20"
            ]
          },
          "metadata": {},
          "execution_count": 90
        }
      ]
    },
    {
      "cell_type": "code",
      "source": [
        "lrm_summary = lrm.summary\n",
        "lrm_summary.predictions.show(5)"
      ],
      "metadata": {
        "colab": {
          "base_uri": "https://localhost:8080/"
        },
        "id": "YHbUkO_Tyyg7",
        "outputId": "873d0429-453d-4d50-a1ab-964640f29419"
      },
      "execution_count": 91,
      "outputs": [
        {
          "output_type": "stream",
          "name": "stdout",
          "text": [
            "+--------------------+----+--------------------+--------------------+----------+\n",
            "|            features|flag|       rawPrediction|         probability|prediction|\n",
            "+--------------------+----+--------------------+--------------------+----------+\n",
            "|[-1.0,2.0,0.46542...| 0.0|[3.20249699231992...|[0.96092813538995...|       0.0|\n",
            "|[0.0,2.0,0.0,2.0,...| 0.0|[2.17327671238462...|[0.89782395146380...|       0.0|\n",
            "|[0.0,2.0,0.521151...| 0.0|[3.27674000080246...|[0.96362217862364...|       0.0|\n",
            "|[52.0,10.0,0.3560...| 0.0|[3.15113358590704...|[0.95895336501263...|       0.0|\n",
            "|[280.0,2.0,0.0,2....| 0.0|[2.11993883246883...|[0.89282607667535...|       0.0|\n",
            "+--------------------+----+--------------------+--------------------+----------+\n",
            "only showing top 5 rows\n",
            "\n"
          ]
        }
      ]
    },
    {
      "cell_type": "code",
      "source": [
        "from pyspark.ml.evaluation import BinaryClassificationEvaluator\n",
        "pred_lables = lrm.evaluate(df_final_test)\n",
        "result = pred_lables.predictions\n",
        "result.show(5)"
      ],
      "metadata": {
        "colab": {
          "base_uri": "https://localhost:8080/"
        },
        "id": "zdZaYToyzTpJ",
        "outputId": "4785ad00-fc75-402d-a2fd-880ffa128bc2"
      },
      "execution_count": 92,
      "outputs": [
        {
          "output_type": "stream",
          "name": "stdout",
          "text": [
            "+--------------------+----+--------------------+--------------------+----------+\n",
            "|            features|flag|       rawPrediction|         probability|prediction|\n",
            "+--------------------+----+--------------------+--------------------+----------+\n",
            "|[-1.0,2.0,0.46542...|   0|[3.20249699231992...|[0.96092813538995...|       0.0|\n",
            "|[0.0,2.0,0.0,2.0,...|   0|[2.17327671238462...|[0.89782395146380...|       0.0|\n",
            "|[0.0,2.0,0.521151...|   0|[3.27674000080246...|[0.96362217862364...|       0.0|\n",
            "|[52.0,10.0,0.3560...|   0|[3.15113358590704...|[0.95895336501263...|       0.0|\n",
            "|[280.0,2.0,0.0,2....|   0|[2.11993883246883...|[0.89282607667535...|       0.0|\n",
            "+--------------------+----+--------------------+--------------------+----------+\n",
            "only showing top 5 rows\n",
            "\n"
          ]
        }
      ]
    },
    {
      "cell_type": "code",
      "source": [
        "from pyspark.ml.feature import VectorAssembler\n",
        "vector_col = 'corr-feature'\n",
        "assemblerCorr = VectorAssembler(inputCols=['hour_diff',\n",
        " 'mcc',\n",
        " 'amnt',\n",
        " 'mcc_category',\n",
        " 'days_before',\n",
        " 'country',\n",
        " 'weekofyear',\n",
        " 'operation_kind',\n",
        " 'city',\n",
        " '__index_level_0__',\n",
        " 'hour',\n",
        " 'income_flag',\n",
        " 'card_type',\n",
        " 'currency',\n",
        " 'day_of_week',\n",
        " 'payment_system',\n",
        " 'ecommerce_flag',\n",
        " 'operation_type_group',\n",
        " 'transaction_number',\n",
        " 'operation_type',\n",
        " 'flag'], outputCol=vector_col)\n",
        "df_vector = assemblerCorr.transform(part0).select(vector_col)\n",
        "df_vector.show(5)"
      ],
      "metadata": {
        "colab": {
          "base_uri": "https://localhost:8080/"
        },
        "id": "hbqg5-wkA3UV",
        "outputId": "8d678d0c-750b-4043-fdfe-42b83f5938d9"
      },
      "execution_count": 93,
      "outputs": [
        {
          "output_type": "stream",
          "name": "stdout",
          "text": [
            "+--------------------+\n",
            "|        corr-feature|\n",
            "+--------------------+\n",
            "|[-1.0,2.0,0.46542...|\n",
            "|[0.0,2.0,0.0,2.0,...|\n",
            "|[0.0,2.0,0.521151...|\n",
            "|[52.0,10.0,0.3560...|\n",
            "|[280.0,2.0,0.0,2....|\n",
            "+--------------------+\n",
            "only showing top 5 rows\n",
            "\n"
          ]
        }
      ]
    },
    {
      "cell_type": "code",
      "source": [
        "from pyspark.ml.stat import Correlation\n",
        "matrix = Correlation.corr(df_vector, vector_col).collect()[0][0]\n",
        "corrmatrix = matrix.toArray().tolist()\n",
        "print(corrmatrix)"
      ],
      "metadata": {
        "id": "nQbxEGTb29Iy",
        "colab": {
          "base_uri": "https://localhost:8080/"
        },
        "outputId": "d4c9f3cb-577b-4368-c645-731bbd02fed9"
      },
      "execution_count": 94,
      "outputs": [
        {
          "output_type": "stream",
          "name": "stdout",
          "text": [
            "[[1.0, -0.038453078338358745, 0.13079317983799266, -0.040554030027362506, 0.00038706562894230483, -0.023600546132377657, -0.008638571608199301, 0.2109280112625824, 0.004253295530725577, -0.004389931054546503, -0.037986809420990905, 0.2151561021803733, 0.01262240889037704, -0.017251780904331066, 0.001378093096700919, 0.10637670185780303, -0.01565932362704104, 0.20493898057539991, -0.15864621823260475, 0.09677488493941776, 0.006514607831885588], [-0.038453078338358745, 1.0, 0.03386459657447085, 0.6875192990381621, -0.0045488154556083986, 0.15909470906102435, 0.006694800975430345, -0.13307079015187462, 0.029375739760667825, -0.003033352189460087, -0.04706003310919703, -0.10575301340260174, 0.03938596454196586, 0.08468068359233424, 0.008184758102219698, -0.1152312896994495, 0.36105954906882654, -0.07412695127704191, 0.06010168652480338, 0.019069285986434346, -0.012732095021748841], [0.13079317983799266, 0.03386459657447085, 1.0, 0.05187254367682303, 0.023991986046865643, 0.025355878692924293, -0.010195834660983064, 0.42059262550243004, -0.08735612650909941, -0.02046549061733939, 0.01650057204544259, 0.3278620724102091, 0.06807351905098509, 0.07620601170086236, -0.02106355366158539, 0.31283166931075046, -0.06626995105595053, 0.2752147058612059, -0.010109557839673477, 0.19717307963187983, -0.01977863888716969], [-0.040554030027362506, 0.6875192990381621, 0.05187254367682303, 1.0, -0.0028096101975937705, 0.13314428731644803, 0.005472155498189931, -0.16889707174779864, 0.05500334084733654, -0.0048346739129696845, -0.047888818370374786, -0.10842106515306231, 0.03908740033087933, 0.07146968361746892, 0.00832822290211001, -0.1295028998903584, 0.37858888686982156, -0.1250194445681788, 0.0619979692423922, -0.0033854789511561447, -0.0158981814549127], [0.00038706562894230483, -0.0045488154556083986, 0.023991986046865643, -0.0028096101975937705, 1.0, -0.0031713070220397662, -0.32409299880941733, 0.020602971623285556, -0.01099188109606213, 0.005999937697409797, 0.00023816626175775297, 0.01437009078275786, 0.09613591428119952, 0.001338152863124078, 0.0005985523506743298, -0.045943728913139366, -0.029264883409836736, 0.015382718982916507, -0.4669090059181724, 0.020884774619225152, -0.011086532255637101], [-0.023600546132377657, 0.15909470906102435, 0.025355878692924293, 0.13314428731644803, -0.0031713070220397662, 1.0, 0.007419831129617209, -0.00012019733071821306, 0.05795200219233259, -0.014938947783605074, -0.02647007743433459, -0.04410211418930665, 0.04599912997142817, 0.6780385075112899, 0.0034150213473508983, -0.08219753853673122, 0.16086790712133925, -0.002457225485439743, 0.07455013079994001, 0.02991893077027899, -0.0027322147059121345], [-0.008638571608199301, 0.006694800975430345, -0.010195834660983064, 0.005472155498189931, -0.32409299880941733, 0.007419831129617209, 1.0, -0.009432866161284305, 0.004332348234358113, 0.02611619748283867, 0.0029912594295446577, -0.007524339839862956, -0.028934586841589414, 0.004534152719275884, 0.007216593990348392, 0.08361666837000788, 0.021794597813136588, -0.007602692984600807, 0.15080506017423803, -0.008726552224657519, 0.0026235000304129495], [0.2109280112625824, -0.13307079015187462, 0.42059262550243004, -0.16889707174779864, 0.020602971623285556, -0.00012019733071821306, -0.009432866161284305, 1.0, -0.047306885295860725, -0.01336552086723612, -0.08702111050122832, 0.7897971887869548, 0.03258650927054286, -0.014638642933612743, -0.007682729250958279, 0.391377450019037, -0.0549123091489074, 0.8057436489376786, -0.07449104494512876, 0.6025716873562931, 0.012462165440090838], [0.004253295530725577, 0.029375739760667825, -0.08735612650909941, 0.05500334084733654, -0.01099188109606213, 0.05795200219233259, 0.004332348234358113, -0.047306885295860725, 1.0, 0.0033937540933141686, -0.023455869293090664, -0.016017528558028064, -0.010935913766043328, -0.007989673887440658, 0.0011844531124241948, -0.10644898110779828, 0.0839747827548674, -0.003963538128972769, -0.024332555016988427, -0.05728604936899959, 0.003220733826382965], [-0.004389931054546503, -0.003033352189460087, -0.02046549061733939, -0.0048346739129696845, 0.005999937697409797, -0.014938947783605074, 0.02611619748283867, -0.01336552086723612, 0.0033937540933141686, 1.0, -0.0021951918312885857, -0.006709935075834898, -0.04488313763469344, -0.008873893062047273, 0.0009900134917870203, 0.05145044905987401, -0.003083897662604499, -0.0068352825819174194, 0.00027376735241507825, -0.018996865701778547, -0.01713905911021082], [-0.037986809420990905, -0.04706003310919703, 0.01650057204544259, -0.047888818370374786, 0.00023816626175775297, -0.02647007743433459, 0.0029912594295446577, -0.08702111050122832, -0.023455869293090664, -0.0021951918312885857, 1.0, -0.04000200162331569, -0.006490082169135778, -0.012281768534807053, -0.0020274971864308665, -0.051073396929943636, -0.040549532082324646, -0.06636029208554121, 0.011142317325678858, -0.09855213738681722, -0.0009244358029859638], [0.2151561021803733, -0.10575301340260174, 0.3278620724102091, -0.10842106515306231, 0.01437009078275786, -0.04410211418930665, -0.007524339839862956, 0.7897971887869548, -0.016017528558028064, -0.006709935075834898, -0.04000200162331569, 1.0, 0.04314501581258041, -0.016484331124329503, 0.002102173529781209, 0.18821498127519865, -0.044944241523655004, 0.9369676019338724, -0.056287504203067426, 0.3980219228644365, 0.006194911666726841], [0.01262240889037704, 0.03938596454196586, 0.06807351905098509, 0.03908740033087933, 0.09613591428119952, 0.04599912997142817, -0.028934586841589414, 0.03258650927054286, -0.010935913766043328, -0.04488313763469344, -0.006490082169135778, 0.04314501581258041, 1.0, 0.040303920895787944, 0.0035500605729279064, -0.04341383618559072, 0.03355082622521485, 0.03972404975530618, 0.06840460678601828, -0.0026988788930782364, -0.008184261996254879], [-0.017251780904331066, 0.08468068359233424, 0.07620601170086236, 0.07146968361746892, 0.001338152863124078, 0.6780385075112899, 0.004534152719275884, -0.014638642933612743, -0.007989673887440658, -0.008873893062047273, -0.012281768534807053, -0.016484331124329503, 0.040303920895787944, 1.0, 0.003153523320451197, -0.04387297358705464, 0.008894197400876387, -0.014548164923553191, 0.054253796928704676, -0.004898410084606149, -0.006993178180096911], [0.001378093096700919, 0.008184758102219698, -0.02106355366158539, 0.00832822290211001, 0.0005985523506743298, 0.0034150213473508983, 0.007216593990348392, -0.007682729250958279, 0.0011844531124241948, 0.0009900134917870203, -0.0020274971864308665, 0.002102173529781209, 0.0035500605729279064, 0.003153523320451197, 1.0, -0.007887423579619387, 0.00626735562486554, 0.001042060728146978, 0.005451143600701097, -0.007055008051951498, -0.0007711492737325285], [0.10637670185780303, -0.1152312896994495, 0.31283166931075046, -0.1295028998903584, -0.045943728913139366, -0.08219753853673122, 0.08361666837000788, 0.391377450019037, -0.10644898110779828, 0.05145044905987401, -0.051073396929943636, 0.18821498127519865, -0.04341383618559072, -0.04387297358705464, -0.007887423579619387, 1.0, 0.023689109336934636, 0.1887845121355968, -0.051442681524891364, 0.3522197790218049, 0.0073578616421822625], [-0.01565932362704104, 0.36105954906882654, -0.06626995105595053, 0.37858888686982156, -0.029264883409836736, 0.16086790712133925, 0.021794597813136588, -0.0549123091489074, 0.0839747827548674, -0.003083897662604499, -0.040549532082324646, -0.044944241523655004, 0.03355082622521485, 0.008894197400876387, 0.00626735562486554, 0.023689109336934636, 1.0, -0.04186216335637692, 0.08649105579597977, 0.2164815222253662, -0.00017181810189099777], [0.20493898057539991, -0.07412695127704191, 0.2752147058612059, -0.1250194445681788, 0.015382718982916507, -0.002457225485439743, -0.007602692984600807, 0.8057436489376786, -0.003963538128972769, -0.0068352825819174194, -0.06636029208554121, 0.9369676019338724, 0.03972404975530618, -0.014548164923553191, 0.001042060728146978, 0.1887845121355968, -0.04186216335637692, 1.0, -0.05786425217158684, 0.4170514470868525, 0.007818295918489855], [-0.15864621823260475, 0.06010168652480338, -0.010109557839673477, 0.0619979692423922, -0.4669090059181724, 0.07455013079994001, 0.15080506017423803, -0.07449104494512876, -0.024332555016988427, 0.00027376735241507825, 0.011142317325678858, -0.056287504203067426, 0.06840460678601828, 0.054253796928704676, 0.005451143600701097, -0.051442681524891364, 0.08649105579597977, -0.05786425217158684, 1.0, -0.04576628116434373, -0.008874718816155652], [0.09677488493941776, 0.019069285986434346, 0.19717307963187983, -0.0033854789511561447, 0.020884774619225152, 0.02991893077027899, -0.008726552224657519, 0.6025716873562931, -0.05728604936899959, -0.018996865701778547, -0.09855213738681722, 0.3980219228644365, -0.0026988788930782364, -0.004898410084606149, -0.007055008051951498, 0.3522197790218049, 0.2164815222253662, 0.4170514470868525, -0.04576628116434373, 1.0, 0.013493692148080891], [0.006514607831885588, -0.012732095021748841, -0.01977863888716969, -0.0158981814549127, -0.011086532255637101, -0.0027322147059121345, 0.0026235000304129495, 0.012462165440090838, 0.003220733826382965, -0.01713905911021082, -0.0009244358029859638, 0.006194911666726841, -0.008184261996254879, -0.006993178180096911, -0.0007711492737325285, 0.0073578616421822625, -0.00017181810189099777, 0.007818295918489855, -0.008874718816155652, 0.013493692148080891, 1.0]]\n"
          ]
        }
      ]
    },
    {
      "cell_type": "code",
      "source": [
        "df_corr = spark.createDataFrame(corrmatrix, ['hour_diff',\n",
        " 'mcc',\n",
        " 'amnt',\n",
        " 'mcc_category',\n",
        " 'days_before',\n",
        " 'country',\n",
        " 'weekofyear',\n",
        " 'operation_kind',\n",
        " 'city',\n",
        " '__index_level_0__',\n",
        " 'hour',\n",
        " 'income_flag',\n",
        " 'card_type',\n",
        " 'currency',\n",
        " 'day_of_week',\n",
        " 'payment_system',\n",
        " 'ecommerce_flag',\n",
        " 'operation_type_group',\n",
        " 'transaction_number',\n",
        " 'operation_type'\n",
        " 'flag'])\n",
        "df_corr.show(25)"
      ],
      "metadata": {
        "colab": {
          "base_uri": "https://localhost:8080/"
        },
        "id": "RjGOEFrf-zEF",
        "outputId": "994b0d5b-f3eb-48ce-eb73-5110bc017306"
      },
      "execution_count": 95,
      "outputs": [
        {
          "output_type": "stream",
          "name": "stdout",
          "text": [
            "+--------------------+--------------------+--------------------+--------------------+--------------------+--------------------+--------------------+--------------------+--------------------+--------------------+--------------------+--------------------+--------------------+--------------------+--------------------+--------------------+--------------------+--------------------+--------------------+--------------------+--------------------+\n",
            "|           hour_diff|                 mcc|                amnt|        mcc_category|         days_before|             country|          weekofyear|      operation_kind|                city|   __index_level_0__|                hour|         income_flag|           card_type|            currency|         day_of_week|      payment_system|      ecommerce_flag|operation_type_group|  transaction_number|  operation_typeflag|                 _21|\n",
            "+--------------------+--------------------+--------------------+--------------------+--------------------+--------------------+--------------------+--------------------+--------------------+--------------------+--------------------+--------------------+--------------------+--------------------+--------------------+--------------------+--------------------+--------------------+--------------------+--------------------+--------------------+\n",
            "|                 1.0|-0.03845307833835...| 0.13079317983799266|-0.04055403002736...|3.870656289423048...|-0.02360054613237...|-0.00863857160819...|  0.2109280112625824|0.004253295530725577|-0.00438993105454...|-0.03798680942099...|  0.2151561021803733| 0.01262240889037704|-0.01725178090433...|0.001378093096700919| 0.10637670185780303|-0.01565932362704104| 0.20493898057539991|-0.15864621823260475| 0.09677488493941776|0.006514607831885588|\n",
            "|-0.03845307833835...|                 1.0| 0.03386459657447085|  0.6875192990381621|-0.00454881545560...| 0.15909470906102435|0.006694800975430345|-0.13307079015187462|0.029375739760667825|-0.00303335218946...|-0.04706003310919703|-0.10575301340260174| 0.03938596454196586| 0.08468068359233424|0.008184758102219698| -0.1152312896994495| 0.36105954906882654|-0.07412695127704191| 0.06010168652480338|0.019069285986434346|-0.01273209502174...|\n",
            "| 0.13079317983799266| 0.03386459657447085|                 1.0| 0.05187254367682303|0.023991986046865643|0.025355878692924293|-0.01019583466098...| 0.42059262550243004|-0.08735612650909941|-0.02046549061733939| 0.01650057204544259|  0.3278620724102091| 0.06807351905098509| 0.07620601170086236|-0.02106355366158539| 0.31283166931075046|-0.06626995105595053|  0.2752147058612059|-0.01010955783967...| 0.19717307963187983|-0.01977863888716969|\n",
            "|-0.04055403002736...|  0.6875192990381621| 0.05187254367682303|                 1.0|-0.00280961019759...| 0.13314428731644803|0.005472155498189931|-0.16889707174779864| 0.05500334084733654|-0.00483467391296...|-0.04788881837037...|-0.10842106515306231| 0.03908740033087933| 0.07146968361746892| 0.00832822290211001| -0.1295028998903584| 0.37858888686982156| -0.1250194445681788|  0.0619979692423922|-0.00338547895115...| -0.0158981814549127|\n",
            "|3.870656289423048...|-0.00454881545560...|0.023991986046865643|-0.00280961019759...|                 1.0|-0.00317130702203...|-0.32409299880941733|0.020602971623285556|-0.01099188109606213|0.005999937697409797|2.381662617577529...| 0.01437009078275786| 0.09613591428119952|0.001338152863124078|5.985523506743298E-4|-0.04594372891313...|-0.02926488340983...|0.015382718982916507| -0.4669090059181724|0.020884774619225152|-0.01108653225563...|\n",
            "|-0.02360054613237...| 0.15909470906102435|0.025355878692924293| 0.13314428731644803|-0.00317130702203...|                 1.0|0.007419831129617209|-1.20197330718213...| 0.05795200219233259|-0.01493894778360...|-0.02647007743433459|-0.04410211418930665| 0.04599912997142817|  0.6780385075112899|0.003415021347350...|-0.08219753853673122| 0.16086790712133925|-0.00245722548543...| 0.07455013079994001| 0.02991893077027899|-0.00273221470591...|\n",
            "|-0.00863857160819...|0.006694800975430345|-0.01019583466098...|0.005472155498189931|-0.32409299880941733|0.007419831129617209|                 1.0|-0.00943286616128...|0.004332348234358113| 0.02611619748283867|0.002991259429544...|-0.00752433983986...|-0.02893458684158...|0.004534152719275884|0.007216593990348392| 0.08361666837000788|0.021794597813136588|-0.00760269298460...| 0.15080506017423803|-0.00872655222465...|0.002623500030412...|\n",
            "|  0.2109280112625824|-0.13307079015187462| 0.42059262550243004|-0.16889707174779864|0.020602971623285556|-1.20197330718213...|-0.00943286616128...|                 1.0|-0.04730688529586...|-0.01336552086723612|-0.08702111050122832|  0.7897971887869548| 0.03258650927054286|-0.01463864293361...|-0.00768272925095...|   0.391377450019037| -0.0549123091489074|  0.8057436489376786|-0.07449104494512876|  0.6025716873562931|0.012462165440090838|\n",
            "|0.004253295530725577|0.029375739760667825|-0.08735612650909941| 0.05500334084733654|-0.01099188109606213| 0.05795200219233259|0.004332348234358113|-0.04730688529586...|                 1.0|0.003393754093314...|-0.02345586929309...|-0.01601752855802...|-0.01093591376604...|-0.00798967388744...|0.001184453112424...|-0.10644898110779828|  0.0839747827548674|-0.00396353812897...|-0.02433255501698...|-0.05728604936899959|0.003220733826382965|\n",
            "|-0.00438993105454...|-0.00303335218946...|-0.02046549061733939|-0.00483467391296...|0.005999937697409797|-0.01493894778360...| 0.02611619748283867|-0.01336552086723612|0.003393754093314...|                 1.0|-0.00219519183128...|-0.00670993507583...|-0.04488313763469344|-0.00887389306204...|9.900134917870203E-4| 0.05145044905987401|-0.00308389766260...|-0.00683528258191...|2.737673524150782...|-0.01899686570177...|-0.01713905911021082|\n",
            "|-0.03798680942099...|-0.04706003310919703| 0.01650057204544259|-0.04788881837037...|2.381662617577529...|-0.02647007743433459|0.002991259429544...|-0.08702111050122832|-0.02345586929309...|-0.00219519183128...|                 1.0|-0.04000200162331569|-0.00649008216913...|-0.01228176853480...|-0.00202749718643...|-0.05107339692994...|-0.04054953208232...|-0.06636029208554121|0.011142317325678858|-0.09855213738681722|-9.24435802985963...|\n",
            "|  0.2151561021803733|-0.10575301340260174|  0.3278620724102091|-0.10842106515306231| 0.01437009078275786|-0.04410211418930665|-0.00752433983986...|  0.7897971887869548|-0.01601752855802...|-0.00670993507583...|-0.04000200162331569|                 1.0| 0.04314501581258041|-0.01648433112432...|0.002102173529781209| 0.18821498127519865|-0.04494424152365...|  0.9369676019338724|-0.05628750420306...|  0.3980219228644365|0.006194911666726841|\n",
            "| 0.01262240889037704| 0.03938596454196586| 0.06807351905098509| 0.03908740033087933| 0.09613591428119952| 0.04599912997142817|-0.02893458684158...| 0.03258650927054286|-0.01093591376604...|-0.04488313763469344|-0.00649008216913...| 0.04314501581258041|                 1.0|0.040303920895787944|0.003550060572927...|-0.04341383618559072| 0.03355082622521485| 0.03972404975530618| 0.06840460678601828|-0.00269887889307...|-0.00818426199625...|\n",
            "|-0.01725178090433...| 0.08468068359233424| 0.07620601170086236| 0.07146968361746892|0.001338152863124078|  0.6780385075112899|0.004534152719275884|-0.01463864293361...|-0.00798967388744...|-0.00887389306204...|-0.01228176853480...|-0.01648433112432...|0.040303920895787944|                 1.0|0.003153523320451197|-0.04387297358705464|0.008894197400876387|-0.01454816492355...|0.054253796928704676|-0.00489841008460...|-0.00699317818009...|\n",
            "|0.001378093096700919|0.008184758102219698|-0.02106355366158539| 0.00832822290211001|5.985523506743298E-4|0.003415021347350...|0.007216593990348392|-0.00768272925095...|0.001184453112424...|9.900134917870203E-4|-0.00202749718643...|0.002102173529781209|0.003550060572927...|0.003153523320451197|                 1.0|-0.00788742357961...| 0.00626735562486554|0.001042060728146978|0.005451143600701097|-0.00705500805195...|-7.71149273732528...|\n",
            "| 0.10637670185780303| -0.1152312896994495| 0.31283166931075046| -0.1295028998903584|-0.04594372891313...|-0.08219753853673122| 0.08361666837000788|   0.391377450019037|-0.10644898110779828| 0.05145044905987401|-0.05107339692994...| 0.18821498127519865|-0.04341383618559072|-0.04387297358705464|-0.00788742357961...|                 1.0|0.023689109336934636|  0.1887845121355968|-0.05144268152489...|  0.3522197790218049|0.007357861642182...|\n",
            "|-0.01565932362704104| 0.36105954906882654|-0.06626995105595053| 0.37858888686982156|-0.02926488340983...| 0.16086790712133925|0.021794597813136588| -0.0549123091489074|  0.0839747827548674|-0.00308389766260...|-0.04054953208232...|-0.04494424152365...| 0.03355082622521485|0.008894197400876387| 0.00626735562486554|0.023689109336934636|                 1.0|-0.04186216335637692| 0.08649105579597977|  0.2164815222253662|-1.71818101890997...|\n",
            "| 0.20493898057539991|-0.07412695127704191|  0.2752147058612059| -0.1250194445681788|0.015382718982916507|-0.00245722548543...|-0.00760269298460...|  0.8057436489376786|-0.00396353812897...|-0.00683528258191...|-0.06636029208554121|  0.9369676019338724| 0.03972404975530618|-0.01454816492355...|0.001042060728146978|  0.1887845121355968|-0.04186216335637692|                 1.0|-0.05786425217158684|  0.4170514470868525|0.007818295918489855|\n",
            "|-0.15864621823260475| 0.06010168652480338|-0.01010955783967...|  0.0619979692423922| -0.4669090059181724| 0.07455013079994001| 0.15080506017423803|-0.07449104494512876|-0.02433255501698...|2.737673524150782...|0.011142317325678858|-0.05628750420306...| 0.06840460678601828|0.054253796928704676|0.005451143600701097|-0.05144268152489...| 0.08649105579597977|-0.05786425217158684|                 1.0|-0.04576628116434373|-0.00887471881615...|\n",
            "| 0.09677488493941776|0.019069285986434346| 0.19717307963187983|-0.00338547895115...|0.020884774619225152| 0.02991893077027899|-0.00872655222465...|  0.6025716873562931|-0.05728604936899959|-0.01899686570177...|-0.09855213738681722|  0.3980219228644365|-0.00269887889307...|-0.00489841008460...|-0.00705500805195...|  0.3522197790218049|  0.2164815222253662|  0.4170514470868525|-0.04576628116434373|                 1.0|0.013493692148080891|\n",
            "|0.006514607831885588|-0.01273209502174...|-0.01977863888716969| -0.0158981814549127|-0.01108653225563...|-0.00273221470591...|0.002623500030412...|0.012462165440090838|0.003220733826382965|-0.01713905911021082|-9.24435802985963...|0.006194911666726841|-0.00818426199625...|-0.00699317818009...|-7.71149273732528...|0.007357861642182...|-1.71818101890997...|0.007818295918489855|-0.00887471881615...|0.013493692148080891|                 1.0|\n",
            "+--------------------+--------------------+--------------------+--------------------+--------------------+--------------------+--------------------+--------------------+--------------------+--------------------+--------------------+--------------------+--------------------+--------------------+--------------------+--------------------+--------------------+--------------------+--------------------+--------------------+--------------------+\n",
            "\n"
          ]
        }
      ]
    },
    {
      "cell_type": "markdown",
      "source": [
        "**Наибольшая корреляция по времени, дне недели и ecommerce_flag.**"
      ],
      "metadata": {
        "id": "ny4_4lH2Li8I"
      }
    },
    {
      "cell_type": "code",
      "source": [
        "result.select([\"flag\", \"prediction\"]).show(5)"
      ],
      "metadata": {
        "colab": {
          "base_uri": "https://localhost:8080/"
        },
        "id": "YUwC2VVS808z",
        "outputId": "f7c19c1f-bb8b-4208-da6b-0cce3f30e624"
      },
      "execution_count": 96,
      "outputs": [
        {
          "output_type": "stream",
          "name": "stdout",
          "text": [
            "+----+----------+\n",
            "|flag|prediction|\n",
            "+----+----------+\n",
            "|   0|       0.0|\n",
            "|   0|       0.0|\n",
            "|   0|       0.0|\n",
            "|   0|       0.0|\n",
            "|   0|       0.0|\n",
            "+----+----------+\n",
            "only showing top 5 rows\n",
            "\n"
          ]
        }
      ]
    },
    {
      "cell_type": "code",
      "source": [
        "tp = result[(result.flag==1) & (result.prediction==1)].count()\n",
        "tn = result[(result.flag==0) & (result.prediction==0)].count()\n",
        "fp = result[(result.flag==0) & (result.prediction==1)].count()\n",
        "fn = result[(result.flag==1) & (result.prediction==0)].count()"
      ],
      "metadata": {
        "id": "xrnaZjVz9jbw"
      },
      "execution_count": 97,
      "outputs": []
    },
    {
      "cell_type": "code",
      "source": [
        "accuracy = float((tn+tp)/(result.count()))\n",
        "accuracy"
      ],
      "metadata": {
        "colab": {
          "base_uri": "https://localhost:8080/"
        },
        "id": "uCmW2Fok_Nbh",
        "outputId": "c96ac34d-4742-4347-ed1d-ae6f6267da33"
      },
      "execution_count": 98,
      "outputs": [
        {
          "output_type": "execute_result",
          "data": {
            "text/plain": [
              "0.9787667573634494"
            ]
          },
          "metadata": {},
          "execution_count": 98
        }
      ]
    },
    {
      "cell_type": "code",
      "source": [
        "recall = float(tn)/float(tp+tn)\n",
        "recall"
      ],
      "metadata": {
        "colab": {
          "base_uri": "https://localhost:8080/"
        },
        "id": "Td2_atAEFjxs",
        "outputId": "a1760f81-fe9f-47d0-f70c-266ad0d3eba5"
      },
      "execution_count": 99,
      "outputs": [
        {
          "output_type": "execute_result",
          "data": {
            "text/plain": [
              "1.0"
            ]
          },
          "metadata": {},
          "execution_count": 99
        }
      ]
    },
    {
      "cell_type": "code",
      "source": [
        "eval = BinaryClassificationEvaluator(rawPredictionCol=\"prediction\", labelCol=\"flag\")\n",
        "auc = eval.evaluate(pred_lables.predictions)\n",
        "auc"
      ],
      "metadata": {
        "colab": {
          "base_uri": "https://localhost:8080/"
        },
        "id": "UI3TRt1y2KgW",
        "outputId": "e80eac75-0394-4215-b7e1-bdd65512842a"
      },
      "execution_count": 100,
      "outputs": [
        {
          "output_type": "execute_result",
          "data": {
            "text/plain": [
              "0.5"
            ]
          },
          "metadata": {},
          "execution_count": 100
        }
      ]
    }
  ]
}