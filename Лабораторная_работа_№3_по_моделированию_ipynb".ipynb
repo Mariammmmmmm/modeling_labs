{
  "cells": [
    {
      "cell_type": "markdown",
      "metadata": {
        "id": "view-in-github",
        "colab_type": "text"
      },
      "source": [
        "<a href=\"https://colab.research.google.com/github/Mariammmmmmm/modeling_labs/blob/main/%D0%9B%D0%B0%D0%B1%D0%BE%D1%80%D0%B0%D1%82%D0%BE%D1%80%D0%BD%D0%B0%D1%8F_%D1%80%D0%B0%D0%B1%D0%BE%D1%82%D0%B0_%E2%84%963_%D0%BF%D0%BE_%D0%BC%D0%BE%D0%B4%D0%B5%D0%BB%D0%B8%D1%80%D0%BE%D0%B2%D0%B0%D0%BD%D0%B8%D1%8E_ipynb%22.ipynb\" target=\"_parent\"><img src=\"https://colab.research.google.com/assets/colab-badge.svg\" alt=\"Open In Colab\"/></a>"
      ]
    },
    {
      "cell_type": "markdown",
      "source": [
        "Рстакян Мариам "
      ],
      "metadata": {
        "id": "JNGxtfxlvhmn"
      }
    },
    {
      "cell_type": "code",
      "execution_count": 1,
      "metadata": {
        "colab": {
          "base_uri": "https://localhost:8080/"
        },
        "id": "XLS4_nAFGtox",
        "outputId": "9e2813d3-4df4-4725-adef-6cedc8dbccf8"
      },
      "outputs": [
        {
          "output_type": "stream",
          "name": "stdout",
          "text": [
            "Looking in indexes: https://pypi.org/simple, https://us-python.pkg.dev/colab-wheels/public/simple/\n",
            "Requirement already satisfied: pyspark in /usr/local/lib/python3.7/dist-packages (3.3.0)\n",
            "Requirement already satisfied: py4j==0.10.9.5 in /usr/local/lib/python3.7/dist-packages (from pyspark) (0.10.9.5)\n"
          ]
        }
      ],
      "source": [
        "!pip install pyspark"
      ]
    },
    {
      "cell_type": "code",
      "execution_count": 2,
      "metadata": {
        "colab": {
          "base_uri": "https://localhost:8080/",
          "height": 219
        },
        "id": "Zk2JJP_dIq8o",
        "outputId": "bdd4b6ee-7265-4769-e3d4-6e13ae390030"
      },
      "outputs": [
        {
          "output_type": "execute_result",
          "data": {
            "text/plain": [
              "<pyspark.sql.session.SparkSession at 0x7fb4b3575890>"
            ],
            "text/html": [
              "\n",
              "            <div>\n",
              "                <p><b>SparkSession - in-memory</b></p>\n",
              "                \n",
              "        <div>\n",
              "            <p><b>SparkContext</b></p>\n",
              "\n",
              "            <p><a href=\"http://9ed1cba97b44:4040\">Spark UI</a></p>\n",
              "\n",
              "            <dl>\n",
              "              <dt>Version</dt>\n",
              "                <dd><code>v3.3.0</code></dd>\n",
              "              <dt>Master</dt>\n",
              "                <dd><code>local[*]</code></dd>\n",
              "              <dt>AppName</dt>\n",
              "                <dd><code>Dataframe</code></dd>\n",
              "            </dl>\n",
              "        </div>\n",
              "        \n",
              "            </div>\n",
              "        "
            ]
          },
          "metadata": {},
          "execution_count": 2
        }
      ],
      "source": [
        "import pyspark\n",
        "from pyspark.sql import SparkSession\n",
        "spark=SparkSession.builder.appName('Dataframe').getOrCreate()\n",
        "spark"
      ]
    },
    {
      "cell_type": "code",
      "source": [
        "part0 = spark.read.parquet('part_0.parquet')\n",
        "part0 = part0.dropna()\n",
        "part1 = spark.read.parquet('part_1.parquet')\n",
        "part1 = part1.dropna()\n",
        "part2 = spark.read.parquet('part_2.parquet')\n",
        "part2 = part2.dropna()\n",
        "part3 = spark.read.parquet('part_3.parquet')\n",
        "part3 = part3.dropna()\n",
        "part4 = spark.read.parquet('part_4.parquet')\n",
        "part4 = part4.dropna()\n",
        "part0 = part0.union(part1).union(part2).union(part3).union(part4)\n",
        "part0 = part0.dropna()\n",
        "part0.show(5)"
      ],
      "metadata": {
        "colab": {
          "base_uri": "https://localhost:8080/"
        },
        "id": "SJmCFlIU0Edd",
        "outputId": "5cb6e845-b914-42c0-9571-f4f2b82e3073"
      },
      "execution_count": 3,
      "outputs": [
        {
          "output_type": "stream",
          "name": "stdout",
          "text": [
            "+------+-------------------+--------+--------------+---------+--------------+--------------------+--------------+--------------+-----------+---+-------+----+------------+-----------+----+-----------+----------+---------+------------------+-----------------+\n",
            "|app_id|               amnt|currency|operation_kind|card_type|operation_type|operation_type_group|ecommerce_flag|payment_system|income_flag|mcc|country|city|mcc_category|day_of_week|hour|days_before|weekofyear|hour_diff|transaction_number|__index_level_0__|\n",
            "+------+-------------------+--------+--------------+---------+--------------+--------------------+--------------+--------------+-----------+---+-------+----+------------+-----------+----+-----------+----------+---------+------------------+-----------------+\n",
            "|     0| 0.4654254330729043|       1|             4|       98|             4|                   2|             3|             7|          3|  2|      1|  37|           2|          4|  19|        351|        34|       -1|                 1|                0|\n",
            "|     0|                0.0|       1|             2|       98|             7|                   1|             3|             7|          3|  2|      1|  49|           2|          4|  20|        351|        34|        0|                 2|                1|\n",
            "|     0| 0.5211518246354306|       1|             2|       98|             3|                   1|             3|             7|          3|  2|      1|  37|           2|          4|  20|        351|        34|        0|                 3|                2|\n",
            "|     0|0.35607835388631826|       1|             1|        5|             2|                   1|             3|             7|          3| 10|      1|  49|           7|          2|   0|        348|        34|       52|                 4|                3|\n",
            "|     0|                0.0|       1|             2|       98|             7|                   1|             3|             7|          3|  2|      1|  49|           2|          4|  16|        337|        53|      280|                 5|                4|\n",
            "+------+-------------------+--------+--------------+---------+--------------+--------------------+--------------+--------------+-----------+---+-------+----+------------+-----------+----+-----------+----------+---------+------------------+-----------------+\n",
            "only showing top 5 rows\n",
            "\n"
          ]
        }
      ]
    },
    {
      "cell_type": "code",
      "execution_count": 4,
      "metadata": {
        "id": "W_A4efXb0sg7",
        "colab": {
          "base_uri": "https://localhost:8080/"
        },
        "outputId": "92003e45-2b49-4485-c186-64fcb7c62558"
      },
      "outputs": [
        {
          "output_type": "execute_result",
          "data": {
            "text/plain": [
              "27045150"
            ]
          },
          "metadata": {},
          "execution_count": 4
        }
      ],
      "source": [
        "part0.count()"
      ]
    },
    {
      "cell_type": "code",
      "source": [
        "part0.select(\"weekofyear\").distinct().count()"
      ],
      "metadata": {
        "colab": {
          "base_uri": "https://localhost:8080/"
        },
        "id": "rG-iKZtlQoJi",
        "outputId": "37d85718-28e1-4067-d127-4a031a762382"
      },
      "execution_count": 5,
      "outputs": [
        {
          "output_type": "execute_result",
          "data": {
            "text/plain": [
              "53"
            ]
          },
          "metadata": {},
          "execution_count": 5
        }
      ]
    },
    {
      "cell_type": "code",
      "source": [
        "part0_test = part0.filter(\"weekofyear > 26\")\n",
        "part0_test.count()"
      ],
      "metadata": {
        "colab": {
          "base_uri": "https://localhost:8080/"
        },
        "id": "CS1ZGAfHPrlu",
        "outputId": "73c93e0f-5051-42c1-b660-f58e9b6bc7c9"
      },
      "execution_count": 6,
      "outputs": [
        {
          "output_type": "execute_result",
          "data": {
            "text/plain": [
              "13560906"
            ]
          },
          "metadata": {},
          "execution_count": 6
        }
      ]
    },
    {
      "cell_type": "code",
      "source": [
        "part0 = part0.filter(\"weekofyear < 27\")\n",
        "part0.count()"
      ],
      "metadata": {
        "colab": {
          "base_uri": "https://localhost:8080/"
        },
        "id": "JF8PYl8VSxM-",
        "outputId": "eedcf7c3-412d-47ee-d6f5-7bdec97d0d6d"
      },
      "execution_count": 7,
      "outputs": [
        {
          "output_type": "execute_result",
          "data": {
            "text/plain": [
              "13484244"
            ]
          },
          "metadata": {},
          "execution_count": 7
        }
      ]
    },
    {
      "cell_type": "code",
      "source": [],
      "metadata": {
        "id": "VX5r7Wf67AWj"
      },
      "execution_count": 7,
      "outputs": []
    },
    {
      "cell_type": "code",
      "source": [
        "week_data_df = part0.groupBy(\"day_of_week\",\"app_id\").sum(\"amnt\")\n",
        "week_test_data_df = part0_test.groupBy(\"day_of_week\",\"app_id\").sum(\"amnt\")\n",
        "week_data_df.show(5)"
      ],
      "metadata": {
        "colab": {
          "base_uri": "https://localhost:8080/"
        },
        "id": "kd7J5ZlW-VqW",
        "outputId": "beb5e619-0566-4f96-c8b4-711bb3a5dcd2"
      },
      "execution_count": 8,
      "outputs": [
        {
          "output_type": "stream",
          "name": "stdout",
          "text": [
            "+-----------+------+------------------+\n",
            "|day_of_week|app_id|         sum(amnt)|\n",
            "+-----------+------+------------------+\n",
            "|          3|    22|15.988337767676331|\n",
            "|          7|    55| 12.95319747448686|\n",
            "|          3|    57| 5.266859471703497|\n",
            "|          3|    89| 3.288576144876369|\n",
            "|          6|   117| 5.598226486381129|\n",
            "+-----------+------+------------------+\n",
            "only showing top 5 rows\n",
            "\n"
          ]
        }
      ]
    },
    {
      "cell_type": "code",
      "source": [
        "week_data_df_e = week_data_df.filter(\"app_id < 50\")\n",
        "week_data_df_e = week_data_df_e.groupBy(\"day_of_week\").sum(\"sum(amnt)\").sort(\"day_of_week\")\n",
        "import matplotlib.pyplot as plt\n",
        "import pandas as pd\n",
        "week_data_pandas_df = week_data_df_e.toPandas()\n",
        "week_data_pandas_df.plot.bar(x='day_of_week', y='sum(sum(amnt))', rot=0)"
      ],
      "metadata": {
        "colab": {
          "base_uri": "https://localhost:8080/",
          "height": 297
        },
        "id": "fhhv4E4MOPXt",
        "outputId": "8610fd0e-5e25-42ce-8cf0-eedddfd36457"
      },
      "execution_count": 12,
      "outputs": [
        {
          "output_type": "execute_result",
          "data": {
            "text/plain": [
              "<matplotlib.axes._subplots.AxesSubplot at 0x7fb4a8c8c7d0>"
            ]
          },
          "metadata": {},
          "execution_count": 12
        },
        {
          "output_type": "display_data",
          "data": {
            "text/plain": [
              "<Figure size 432x288 with 1 Axes>"
            ],
            "image/png": "[encoded data removed]"
          },
          "metadata": {
            "needs_background": "light"
          }
        }
      ]
    },
    {
      "cell_type": "code",
      "source": [
        "pivot_week_df = week_data_df.groupBy('app_id').pivot('day_of_week').sum(\"sum(amnt)\") \n",
        "pivot_week_test_df = week_test_data_df.groupBy('app_id').pivot('day_of_week').sum(\"sum(amnt)\") \n",
        "pivot_week_df.show(5)"
      ],
      "metadata": {
        "colab": {
          "base_uri": "https://localhost:8080/"
        },
        "id": "6y6VrgaN-Xfr",
        "outputId": "64be6781-9f52-4ae1-d0e7-d95669879a47"
      },
      "execution_count": 13,
      "outputs": [
        {
          "output_type": "stream",
          "name": "stdout",
          "text": [
            "+------+------------------+-------------------+------------------+-----------------+------------------+------------------+------------------+\n",
            "|app_id|                 1|                  2|                 3|                4|                 5|                 6|                 7|\n",
            "+------+------------------+-------------------+------------------+-----------------+------------------+------------------+------------------+\n",
            "|  5803| 7.415093444877591| 10.879662208704932| 9.516665672713453|4.803613142228442| 10.60093485790035| 6.982473740379343|  8.62078658322055|\n",
            "|  7340|2.1451384096099497| 0.6687872823021035|0.6676765287205839|3.378023460184986| 2.186086385152351|3.2552689385365654|2.6463765744544916|\n",
            "|  9852| 9.434118459993336|  8.675340799198322| 8.534768999657228|9.197816195632237|3.0647229521597126| 7.544113312353333| 7.948003960347545|\n",
            "| 15727|13.094508255533814|   9.97099761587738|11.797227401401159|7.575353731932025| 8.207695482293195| 6.473612358167856| 11.58339205563029|\n",
            "| 18979|1.3280896767945374|0.20262265803473858|1.2569440005538857|1.655482990027548|0.2760792786733535|1.3356572366265365|1.5132838337209418|\n",
            "+------+------------------+-------------------+------------------+-----------------+------------------+------------------+------------------+\n",
            "only showing top 5 rows\n",
            "\n"
          ]
        }
      ]
    },
    {
      "cell_type": "code",
      "source": [
        "pivot_week_df = pivot_week_df.na.fill(0)\n",
        "pivot_week_test_df = pivot_week_test_df.na.fill(0)\n",
        "pivot_week_df.show(5)"
      ],
      "metadata": {
        "colab": {
          "base_uri": "https://localhost:8080/"
        },
        "id": "PGAo_7ml-esb",
        "outputId": "c0d6a2a3-4755-44dd-ba99-da8be24e3d76"
      },
      "execution_count": 14,
      "outputs": [
        {
          "output_type": "stream",
          "name": "stdout",
          "text": [
            "+------+------------------+-------------------+------------------+-----------------+------------------+------------------+------------------+\n",
            "|app_id|                 1|                  2|                 3|                4|                 5|                 6|                 7|\n",
            "+------+------------------+-------------------+------------------+-----------------+------------------+------------------+------------------+\n",
            "|  5803| 7.415093444877591| 10.879662208704932| 9.516665672713453|4.803613142228442| 10.60093485790035| 6.982473740379343|  8.62078658322055|\n",
            "|  7340|2.1451384096099497| 0.6687872823021035|0.6676765287205839|3.378023460184986| 2.186086385152351|3.2552689385365654|2.6463765744544916|\n",
            "|  9852| 9.434118459993336|  8.675340799198322| 8.534768999657228|9.197816195632237|3.0647229521597126| 7.544113312353333| 7.948003960347545|\n",
            "| 15727|13.094508255533814|   9.97099761587738|11.797227401401159|7.575353731932025| 8.207695482293195| 6.473612358167856| 11.58339205563029|\n",
            "| 18979|1.3280896767945374|0.20262265803473858|1.2569440005538857|1.655482990027548|0.2760792786733535|1.3356572366265365|1.5132838337209418|\n",
            "+------+------------------+-------------------+------------------+-----------------+------------------+------------------+------------------+\n",
            "only showing top 5 rows\n",
            "\n"
          ]
        }
      ]
    },
    {
      "cell_type": "code",
      "source": [
        "cols = []\n",
        "for i in range(6):\n",
        "  a = str(i+1)\n",
        "  cols.append(a)"
      ],
      "metadata": {
        "id": "A74kPt84-iiI"
      },
      "execution_count": 15,
      "outputs": []
    },
    {
      "cell_type": "markdown",
      "source": [
        "По нейронным сетям предсказать тест по app_id предсказать 1-7 дни\n",
        "ИЛИ по app_id и 1-6 дням предсказать 7 день и посчитать метрики"
      ],
      "metadata": {
        "id": "zVVFZUjNOStv"
      }
    },
    {
      "cell_type": "code",
      "source": [
        "final_data_pandas = pivot_week_df.toPandas().loc[:, ['1','2','3','4','5','6','7']]\n",
        "final_test_data_pandas = pivot_week_test_df.toPandas().loc[:, ['1','2','3','4','5','6','7']]\n",
        "final_data_pandas.head()"
      ],
      "metadata": {
        "colab": {
          "base_uri": "https://localhost:8080/",
          "height": 206
        },
        "id": "-G8kz6GPNnJN",
        "outputId": "8791eafd-a4f1-4330-e3a4-cad64016dd19"
      },
      "execution_count": 16,
      "outputs": [
        {
          "output_type": "execute_result",
          "data": {
            "text/plain": [
              "           1          2          3         4          5         6          7\n",
              "0   7.415093  10.879662   9.516666  4.803613  10.600935  6.982474   8.620787\n",
              "1   2.145138   0.668787   0.667677  3.378023   2.186086  3.255269   2.646377\n",
              "2   9.434118   8.675341   8.534769  9.197816   3.064723  7.544113   7.948004\n",
              "3  13.094508   9.970998  11.797227  7.575354   8.207695  6.473612  11.583392\n",
              "4   1.328090   0.202623   1.256944  1.655483   0.276079  1.335657   1.513284"
            ],
            "text/html": [
              "\n",
              "  <div id=\"df-9a85218a-32b7-4628-b198-88fafcd05366\">\n",
              "    <div class=\"colab-df-container\">\n",
              "      <div>\n",
              "<style scoped>\n",
              "    .dataframe tbody tr th:only-of-type {\n",
              "        vertical-align: middle;\n",
              "    }\n",
              "\n",
              "    .dataframe tbody tr th {\n",
              "        vertical-align: top;\n",
              "    }\n",
              "\n",
              "    .dataframe thead th {\n",
              "        text-align: right;\n",
              "    }\n",
              "</style>\n",
              "<table border=\"1\" class=\"dataframe\">\n",
              "  <thead>\n",
              "    <tr style=\"text-align: right;\">\n",
              "      <th></th>\n",
              "      <th>1</th>\n",
              "      <th>2</th>\n",
              "      <th>3</th>\n",
              "      <th>4</th>\n",
              "      <th>5</th>\n",
              "      <th>6</th>\n",
              "      <th>7</th>\n",
              "    </tr>\n",
              "  </thead>\n",
              "  <tbody>\n",
              "    <tr>\n",
              "      <th>0</th>\n",
              "      <td>7.415093</td>\n",
              "      <td>10.879662</td>\n",
              "      <td>9.516666</td>\n",
              "      <td>4.803613</td>\n",
              "      <td>10.600935</td>\n",
              "      <td>6.982474</td>\n",
              "      <td>8.620787</td>\n",
              "    </tr>\n",
              "    <tr>\n",
              "      <th>1</th>\n",
              "      <td>2.145138</td>\n",
              "      <td>0.668787</td>\n",
              "      <td>0.667677</td>\n",
              "      <td>3.378023</td>\n",
              "      <td>2.186086</td>\n",
              "      <td>3.255269</td>\n",
              "      <td>2.646377</td>\n",
              "    </tr>\n",
              "    <tr>\n",
              "      <th>2</th>\n",
              "      <td>9.434118</td>\n",
              "      <td>8.675341</td>\n",
              "      <td>8.534769</td>\n",
              "      <td>9.197816</td>\n",
              "      <td>3.064723</td>\n",
              "      <td>7.544113</td>\n",
              "      <td>7.948004</td>\n",
              "    </tr>\n",
              "    <tr>\n",
              "      <th>3</th>\n",
              "      <td>13.094508</td>\n",
              "      <td>9.970998</td>\n",
              "      <td>11.797227</td>\n",
              "      <td>7.575354</td>\n",
              "      <td>8.207695</td>\n",
              "      <td>6.473612</td>\n",
              "      <td>11.583392</td>\n",
              "    </tr>\n",
              "    <tr>\n",
              "      <th>4</th>\n",
              "      <td>1.328090</td>\n",
              "      <td>0.202623</td>\n",
              "      <td>1.256944</td>\n",
              "      <td>1.655483</td>\n",
              "      <td>0.276079</td>\n",
              "      <td>1.335657</td>\n",
              "      <td>1.513284</td>\n",
              "    </tr>\n",
              "  </tbody>\n",
              "</table>\n",
              "</div>\n",
              "      <button class=\"colab-df-convert\" onclick=\"convertToInteractive('df-9a85218a-32b7-4628-b198-88fafcd05366')\"\n",
              "              title=\"Convert this dataframe to an interactive table.\"\n",
              "              style=\"display:none;\">\n",
              "        \n",
              "  <svg xmlns=\"http://www.w3.org/2000/svg\" height=\"24px\"viewBox=\"0 0 24 24\"\n",
              "       width=\"24px\">\n",
              "    <path d=\"M0 0h24v24H0V0z\" fill=\"none\"/>\n",
              "    <path d=\"M18.56 5.44l.94 2.06.94-2.06 2.06-.94-2.06-.94-.94-2.06-.94 2.06-2.06.94zm-11 1L8.5 8.5l.94-2.06 2.06-.94-2.06-.94L8.5 2.5l-.94 2.06-2.06.94zm10 10l.94 2.06.94-2.06 2.06-.94-2.06-.94-.94-2.06-.94 2.06-2.06.94z\"/><path d=\"M17.41 7.96l-1.37-1.37c-.4-.4-.92-.59-1.43-.59-.52 0-1.04.2-1.43.59L10.3 9.45l-7.72 7.72c-.78.78-.78 2.05 0 2.83L4 21.41c.39.39.9.59 1.41.59.51 0 1.02-.2 1.41-.59l7.78-7.78 2.81-2.81c.8-.78.8-2.07 0-2.86zM5.41 20L4 18.59l7.72-7.72 1.47 1.35L5.41 20z\"/>\n",
              "  </svg>\n",
              "      </button>\n",
              "      \n",
              "  <style>\n",
              "    .colab-df-container {\n",
              "      display:flex;\n",
              "      flex-wrap:wrap;\n",
              "      gap: 12px;\n",
              "    }\n",
              "\n",
              "    .colab-df-convert {\n",
              "      background-color: #E8F0FE;\n",
              "      border: none;\n",
              "      border-radius: 50%;\n",
              "      cursor: pointer;\n",
              "      display: none;\n",
              "      fill: #1967D2;\n",
              "      height: 32px;\n",
              "      padding: 0 0 0 0;\n",
              "      width: 32px;\n",
              "    }\n",
              "\n",
              "    .colab-df-convert:hover {\n",
              "      background-color: #E2EBFA;\n",
              "      box-shadow: 0px 1px 2px rgba(60, 64, 67, 0.3), 0px 1px 3px 1px rgba(60, 64, 67, 0.15);\n",
              "      fill: #174EA6;\n",
              "    }\n",
              "\n",
              "    [theme=dark] .colab-df-convert {\n",
              "      background-color: #3B4455;\n",
              "      fill: #D2E3FC;\n",
              "    }\n",
              "\n",
              "    [theme=dark] .colab-df-convert:hover {\n",
              "      background-color: #434B5C;\n",
              "      box-shadow: 0px 1px 3px 1px rgba(0, 0, 0, 0.15);\n",
              "      filter: drop-shadow(0px 1px 2px rgba(0, 0, 0, 0.3));\n",
              "      fill: #FFFFFF;\n",
              "    }\n",
              "  </style>\n",
              "\n",
              "      <script>\n",
              "        const buttonEl =\n",
              "          document.querySelector('#df-9a85218a-32b7-4628-b198-88fafcd05366 button.colab-df-convert');\n",
              "        buttonEl.style.display =\n",
              "          google.colab.kernel.accessAllowed ? 'block' : 'none';\n",
              "\n",
              "        async function convertToInteractive(key) {\n",
              "          const element = document.querySelector('#df-9a85218a-32b7-4628-b198-88fafcd05366');\n",
              "          const dataTable =\n",
              "            await google.colab.kernel.invokeFunction('convertToInteractive',\n",
              "                                                     [key], {});\n",
              "          if (!dataTable) return;\n",
              "\n",
              "          const docLinkHtml = 'Like what you see? Visit the ' +\n",
              "            '<a target=\"_blank\" href=https://colab.research.google.com/notebooks/data_table.ipynb>data table notebook</a>'\n",
              "            + ' to learn more about interactive tables.';\n",
              "          element.innerHTML = '';\n",
              "          dataTable['output_type'] = 'display_data';\n",
              "          await google.colab.output.renderOutput(dataTable, element);\n",
              "          const docLink = document.createElement('div');\n",
              "          docLink.innerHTML = docLinkHtml;\n",
              "          element.appendChild(docLink);\n",
              "        }\n",
              "      </script>\n",
              "    </div>\n",
              "  </div>\n",
              "  "
            ]
          },
          "metadata": {},
          "execution_count": 16
        }
      ]
    },
    {
      "cell_type": "code",
      "source": [
        "x_train = final_data_pandas.loc[:, cols]\n",
        "y_train = final_data_pandas.loc[:, ['7']]\n",
        "x_test = final_test_data_pandas.loc[:, cols]\n",
        "y_test = final_test_data_pandas.loc[:, ['7']]"
      ],
      "metadata": {
        "id": "OGkr2wscOKQ_"
      },
      "execution_count": 17,
      "outputs": []
    },
    {
      "cell_type": "code",
      "source": [
        "import tensorflow as tf\n",
        "import tensorflow as keras\n",
        "x_train = tf.keras.utils.normalize(x_train, axis=1)\n",
        "x_test = tf.keras.utils.normalize(x_test, axis=1)\n",
        "y_train = tf.keras.utils.normalize(y_train, axis=1)\n",
        "y_test = tf.keras.utils.normalize(y_test, axis=1)"
      ],
      "metadata": {
        "id": "qX3ShPGZE4ku"
      },
      "execution_count": 18,
      "outputs": []
    },
    {
      "cell_type": "code",
      "source": [
        "import numpy as np\n",
        "model = tf.keras.models.Sequential()\n",
        "model.add(tf.keras.layers.Flatten())\n",
        "model.add(tf.keras.layers.Dense(128, activation=tf.nn.relu))\n",
        "model.add(tf.keras.layers.Dense(128, activation=tf.nn.relu))\n",
        "model.add(tf.keras.layers.Dense(1, activation=tf.nn.softmax))\n",
        "model.compile(optimizer='adam',loss='mse', metrics=['accuracy'])\n",
        "model.fit(x_train, y_train, epochs=30)"
      ],
      "metadata": {
        "colab": {
          "base_uri": "https://localhost:8080/"
        },
        "id": "o8VjZDnDAUQl",
        "outputId": "88fba460-f23c-417f-8399-10a8dce1520c"
      },
      "execution_count": 19,
      "outputs": [
        {
          "output_type": "stream",
          "name": "stdout",
          "text": [
            "Epoch 1/30\n",
            "3451/3451 [==============================] - 14s 4ms/step - loss: 0.1378 - accuracy: 0.8622\n",
            "Epoch 2/30\n",
            "3451/3451 [==============================] - 9s 3ms/step - loss: 0.1378 - accuracy: 0.8622\n",
            "Epoch 3/30\n",
            "3451/3451 [==============================] - 11s 3ms/step - loss: 0.1378 - accuracy: 0.8622\n",
            "Epoch 4/30\n",
            "3451/3451 [==============================] - 11s 3ms/step - loss: 0.1378 - accuracy: 0.8622\n",
            "Epoch 5/30\n",
            "3451/3451 [==============================] - 7s 2ms/step - loss: 0.1378 - accuracy: 0.8622\n",
            "Epoch 6/30\n",
            "3451/3451 [==============================] - 7s 2ms/step - loss: 0.1378 - accuracy: 0.8622\n",
            "Epoch 7/30\n",
            "3451/3451 [==============================] - 7s 2ms/step - loss: 0.1378 - accuracy: 0.8622\n",
            "Epoch 8/30\n",
            "3451/3451 [==============================] - 7s 2ms/step - loss: 0.1378 - accuracy: 0.8622\n",
            "Epoch 9/30\n",
            "3451/3451 [==============================] - 9s 3ms/step - loss: 0.1378 - accuracy: 0.8622\n",
            "Epoch 10/30\n",
            "3451/3451 [==============================] - 9s 2ms/step - loss: 0.1378 - accuracy: 0.8622\n",
            "Epoch 11/30\n",
            "3451/3451 [==============================] - 8s 2ms/step - loss: 0.1378 - accuracy: 0.8622\n",
            "Epoch 12/30\n",
            "3451/3451 [==============================] - 8s 2ms/step - loss: 0.1378 - accuracy: 0.8622\n",
            "Epoch 13/30\n",
            "3451/3451 [==============================] - 8s 2ms/step - loss: 0.1378 - accuracy: 0.8622\n",
            "Epoch 14/30\n",
            "3451/3451 [==============================] - 7s 2ms/step - loss: 0.1378 - accuracy: 0.8622\n",
            "Epoch 15/30\n",
            "3451/3451 [==============================] - 7s 2ms/step - loss: 0.1378 - accuracy: 0.8622\n",
            "Epoch 16/30\n",
            "3451/3451 [==============================] - 7s 2ms/step - loss: 0.1378 - accuracy: 0.8622\n",
            "Epoch 17/30\n",
            "3451/3451 [==============================] - 8s 2ms/step - loss: 0.1378 - accuracy: 0.8622\n",
            "Epoch 18/30\n",
            "3451/3451 [==============================] - 8s 2ms/step - loss: 0.1378 - accuracy: 0.8622\n",
            "Epoch 19/30\n",
            "3451/3451 [==============================] - 8s 2ms/step - loss: 0.1378 - accuracy: 0.8622\n",
            "Epoch 20/30\n",
            "3451/3451 [==============================] - 12s 3ms/step - loss: 0.1378 - accuracy: 0.8622\n",
            "Epoch 21/30\n",
            "3451/3451 [==============================] - 7s 2ms/step - loss: 0.1378 - accuracy: 0.8622\n",
            "Epoch 22/30\n",
            "3451/3451 [==============================] - 7s 2ms/step - loss: 0.1378 - accuracy: 0.8622\n",
            "Epoch 23/30\n",
            "3451/3451 [==============================] - 7s 2ms/step - loss: 0.1378 - accuracy: 0.8622\n",
            "Epoch 24/30\n",
            "3451/3451 [==============================] - 8s 2ms/step - loss: 0.1378 - accuracy: 0.8622\n",
            "Epoch 25/30\n",
            "3451/3451 [==============================] - 7s 2ms/step - loss: 0.1378 - accuracy: 0.8622\n",
            "Epoch 26/30\n",
            "3451/3451 [==============================] - 7s 2ms/step - loss: 0.1378 - accuracy: 0.8622\n",
            "Epoch 27/30\n",
            "3451/3451 [==============================] - 7s 2ms/step - loss: 0.1378 - accuracy: 0.8622\n",
            "Epoch 28/30\n",
            "3451/3451 [==============================] - 7s 2ms/step - loss: 0.1378 - accuracy: 0.8622\n",
            "Epoch 29/30\n",
            "3451/3451 [==============================] - 7s 2ms/step - loss: 0.1378 - accuracy: 0.8622\n",
            "Epoch 30/30\n",
            "3451/3451 [==============================] - 7s 2ms/step - loss: 0.1378 - accuracy: 0.8622\n"
          ]
        },
        {
          "output_type": "execute_result",
          "data": {
            "text/plain": [
              "<keras.callbacks.History at 0x7fb43cc70ed0>"
            ]
          },
          "metadata": {},
          "execution_count": 19
        }
      ]
    },
    {
      "cell_type": "code",
      "source": [
        "val_loss, val_acc = model.evaluate(x_test, y_test)\n",
        "print(val_loss, val_acc)"
      ],
      "metadata": {
        "colab": {
          "base_uri": "https://localhost:8080/"
        },
        "id": "d0F6-S0kGDxc",
        "outputId": "066368df-a8e3-4c44-95df-c8b2212827b1"
      },
      "execution_count": 20,
      "outputs": [
        {
          "output_type": "stream",
          "name": "stdout",
          "text": [
            "3444/3444 [==============================] - 5s 1ms/step - loss: 0.1182 - accuracy: 0.8818\n",
            "0.11816490441560745 0.8818351030349731\n"
          ]
        }
      ]
    },
    {
      "cell_type": "markdown",
      "source": [
        "------------------------------------------------------------------"
      ],
      "metadata": {
        "id": "I8eVhQRTWLIJ"
      }
    },
    {
      "cell_type": "code",
      "source": [
        "hour_data_df = part0.groupBy(\"hour\",\"app_id\").sum(\"amnt\")\n",
        "hour_test_data_df = part0_test.groupBy(\"hour\",\"app_id\").sum(\"amnt\")\n",
        "hour_data_df.show(5)"
      ],
      "metadata": {
        "colab": {
          "base_uri": "https://localhost:8080/"
        },
        "id": "O8SsNsRjA4Cb",
        "outputId": "4c657361-5d57-49dd-9b48-b7e56d407f22"
      },
      "execution_count": 21,
      "outputs": [
        {
          "output_type": "stream",
          "name": "stdout",
          "text": [
            "+----+------+-------------------+\n",
            "|hour|app_id|          sum(amnt)|\n",
            "+----+------+-------------------+\n",
            "|  15|    14| 1.6380639315790597|\n",
            "|  15|    26|0.28153909926329146|\n",
            "|  22|    53| 4.6036704225266645|\n",
            "|   7|    55|0.40611973034197574|\n",
            "|   6|   117| 0.8119283758004843|\n",
            "+----+------+-------------------+\n",
            "only showing top 5 rows\n",
            "\n"
          ]
        }
      ]
    },
    {
      "cell_type": "code",
      "source": [
        "hour_data_df_e = hour_data_df.filter(\"app_id < 50\")\n",
        "hour_data_df_e = hour_data_df_e.groupBy(\"hour\").sum(\"sum(amnt)\").sort(\"hour\")\n",
        "import matplotlib.pyplot as plt\n",
        "import pandas as pd\n",
        "hour_data_pandas_df = hour_data_df_e.toPandas()\n",
        "hour_data_pandas_df.plot.bar(x='hour', y='sum(sum(amnt))', rot=0)"
      ],
      "metadata": {
        "colab": {
          "base_uri": "https://localhost:8080/",
          "height": 296
        },
        "id": "gFv2Garofee3",
        "outputId": "d0110f98-995b-41d1-94e8-1e7237b5c6ef"
      },
      "execution_count": 22,
      "outputs": [
        {
          "output_type": "execute_result",
          "data": {
            "text/plain": [
              "<matplotlib.axes._subplots.AxesSubplot at 0x7fb43b398ed0>"
            ]
          },
          "metadata": {},
          "execution_count": 22
        },
        {
          "output_type": "display_data",
          "data": {
            "text/plain": [
              "<Figure size 432x288 with 1 Axes>"
            ],
            "image/png": "[encoded data removed]"
          },
          "metadata": {
            "needs_background": "light"
          }
        }
      ]
    },
    {
      "cell_type": "code",
      "source": [
        "pivot_hour_df = hour_data_df.groupBy('app_id').pivot('hour').sum(\"sum(amnt)\") \n",
        "pivot_hour_test_df = hour_test_data_df.groupBy('app_id').pivot('hour').sum(\"sum(amnt)\") \n",
        "pivot_hour_df.show(5)"
      ],
      "metadata": {
        "colab": {
          "base_uri": "https://localhost:8080/"
        },
        "id": "F5RSxTKqBKZV",
        "outputId": "21bbf15d-cac6-495e-eebb-661f635d6104"
      },
      "execution_count": 24,
      "outputs": [
        {
          "output_type": "stream",
          "name": "stdout",
          "text": [
            "+------+-------------------+------------------+-----------------+----+-------------------+------------------+-----------------+------------------+------------------+-------------------+-------------------+------------------+-----------------+-------------------+-------------------+------------------+-------------------+------------------+------------------+------------------+------------------+------------------+------------------+------------------+\n",
            "|app_id|                  0|                 1|                2|   3|                  4|                 5|                6|                 7|                 8|                  9|                 10|                11|               12|                 13|                 14|                15|                 16|                17|                18|                19|                20|                21|                22|                23|\n",
            "+------+-------------------+------------------+-----------------+----+-------------------+------------------+-----------------+------------------+------------------+-------------------+-------------------+------------------+-----------------+-------------------+-------------------+------------------+-------------------+------------------+------------------+------------------+------------------+------------------+------------------+------------------+\n",
            "|  1238|0.49662581175806064|              null|0.914725244851261|null|0.43305710893076776|1.3242308792464483| 4.86863165870187|2.7341601656501497|3.4212915601568703|  7.286054855450875|  2.528247630833017| 4.178936363767566|4.197981218076001| 3.0829124636060254| 3.8012515944520695|1.8973743233051175|  1.959149271404709|2.4202272370815923|1.2765950773707107|0.3349274118365794|              null|1.2424784265314912|0.5650132686639235|              null|\n",
            "|  9900|               null|              null|             null|null|               null|              null|0.310610808150606|0.7651987441377275|1.7740622773215788|  2.035192187378695| 2.2574605195185375|2.4857999819556507|2.858126762152711| 1.5953117016482237|  2.702849325689222|1.5661882691063878| 3.3055244882868062|              null|0.2820569635116952|0.2578500593331536|              null|              null|0.3341164678177084|              null|\n",
            "|  1645|               null|              null|             null|null|               null|              null|             null|              null|0.4563083383427963|               null|0.45793447044972274|0.9109420107078867|             null|               null| 0.8919739085092824|              null|0.45793447044972274| 0.888354737469417| 0.814263396889806|              null|              null|              null|              null|              null|\n",
            "|  2659|0.43188994593492486|0.8063947440923063|             null|null|               null|              null|             null|              null|              null|0.43188994593492486|               null|              null|             null|0.20092910614128615|0.33731559744674605|0.2977785968874431| 0.6468368365411422|              null|0.5315114640764727|0.4084321989091157|              null|              null|0.8572910586682005|0.3751696795991723|\n",
            "|  3918| 0.5449318967867306|              null|             null|null|               null|              null|             null|              null|              null| 2.1430618948554643|  3.992682257604433|              null|             null|               null|               null|              null|               null|              null|2.1044701271623087|2.4247823100909796|0.4442428811095373|0.3643898021183513|              null|              null|\n",
            "+------+-------------------+------------------+-----------------+----+-------------------+------------------+-----------------+------------------+------------------+-------------------+-------------------+------------------+-----------------+-------------------+-------------------+------------------+-------------------+------------------+------------------+------------------+------------------+------------------+------------------+------------------+\n",
            "only showing top 5 rows\n",
            "\n"
          ]
        }
      ]
    },
    {
      "cell_type": "code",
      "source": [
        "pivot_hour_df = pivot_hour_df.na.fill(0)\n",
        "pivot_hour_test_df = pivot_hour_test_df.na.fill(0)\n",
        "pivot_hour_df.show(5)"
      ],
      "metadata": {
        "colab": {
          "base_uri": "https://localhost:8080/"
        },
        "id": "kmP4rWpJfYx3",
        "outputId": "94a05078-e2b6-4d78-80f5-563947913614"
      },
      "execution_count": 25,
      "outputs": [
        {
          "output_type": "stream",
          "name": "stdout",
          "text": [
            "+------+-------------------+------------------+-----------------+---+-------------------+------------------+-----------------+------------------+------------------+-------------------+-------------------+------------------+-----------------+-------------------+-------------------+------------------+-------------------+------------------+------------------+------------------+------------------+------------------+------------------+------------------+\n",
            "|app_id|                  0|                 1|                2|  3|                  4|                 5|                6|                 7|                 8|                  9|                 10|                11|               12|                 13|                 14|                15|                 16|                17|                18|                19|                20|                21|                22|                23|\n",
            "+------+-------------------+------------------+-----------------+---+-------------------+------------------+-----------------+------------------+------------------+-------------------+-------------------+------------------+-----------------+-------------------+-------------------+------------------+-------------------+------------------+------------------+------------------+------------------+------------------+------------------+------------------+\n",
            "|  1238|0.49662581175806064|               0.0|0.914725244851261|0.0|0.43305710893076776|1.3242308792464483| 4.86863165870187|2.7341601656501497|3.4212915601568703|  7.286054855450875|  2.528247630833017| 4.178936363767566|4.197981218076001| 3.0829124636060254| 3.8012515944520695|1.8973743233051175|  1.959149271404709|2.4202272370815923|1.2765950773707107|0.3349274118365794|               0.0|1.2424784265314912|0.5650132686639235|               0.0|\n",
            "|  9900|                0.0|               0.0|              0.0|0.0|                0.0|               0.0|0.310610808150606|0.7651987441377275|1.7740622773215788|  2.035192187378695| 2.2574605195185375|2.4857999819556507|2.858126762152711| 1.5953117016482237|  2.702849325689222|1.5661882691063878| 3.3055244882868062|               0.0|0.2820569635116952|0.2578500593331536|               0.0|               0.0|0.3341164678177084|               0.0|\n",
            "|  1645|                0.0|               0.0|              0.0|0.0|                0.0|               0.0|              0.0|               0.0|0.4563083383427963|                0.0|0.45793447044972274|0.9109420107078867|              0.0|                0.0| 0.8919739085092824|               0.0|0.45793447044972274| 0.888354737469417| 0.814263396889806|               0.0|               0.0|               0.0|               0.0|               0.0|\n",
            "|  2659|0.43188994593492486|0.8063947440923063|              0.0|0.0|                0.0|               0.0|              0.0|               0.0|               0.0|0.43188994593492486|                0.0|               0.0|              0.0|0.20092910614128615|0.33731559744674605|0.2977785968874431| 0.6468368365411422|               0.0|0.5315114640764727|0.4084321989091157|               0.0|               0.0|0.8572910586682005|0.3751696795991723|\n",
            "|  3918| 0.5449318967867306|               0.0|              0.0|0.0|                0.0|               0.0|              0.0|               0.0|               0.0| 2.1430618948554643|  3.992682257604433|               0.0|              0.0|                0.0|                0.0|               0.0|                0.0|               0.0|2.1044701271623087|2.4247823100909796|0.4442428811095373|0.3643898021183513|               0.0|               0.0|\n",
            "+------+-------------------+------------------+-----------------+---+-------------------+------------------+-----------------+------------------+------------------+-------------------+-------------------+------------------+-----------------+-------------------+-------------------+------------------+-------------------+------------------+------------------+------------------+------------------+------------------+------------------+------------------+\n",
            "only showing top 5 rows\n",
            "\n"
          ]
        }
      ]
    },
    {
      "cell_type": "code",
      "source": [
        "cols = []\n",
        "for i in range(24):\n",
        "  a = str(i)\n",
        "  cols.append(a)"
      ],
      "metadata": {
        "id": "hD3pi_-zBcZ_"
      },
      "execution_count": 26,
      "outputs": []
    },
    {
      "cell_type": "code",
      "source": [
        "final_data_pandas = pivot_hour_df.toPandas().loc[:, cols]\n",
        "final_test_data_pandas = pivot_hour_test_df.toPandas().loc[:, cols]\n",
        "final_data_pandas.head()"
      ],
      "metadata": {
        "colab": {
          "base_uri": "https://localhost:8080/",
          "height": 299
        },
        "id": "CQHDC8pTg1P4",
        "outputId": "1377a304-94f2-4ddf-a9cb-a74666115672"
      },
      "execution_count": 27,
      "outputs": [
        {
          "output_type": "execute_result",
          "data": {
            "text/plain": [
              "          0         1         2    3         4         5         6         7  \\\n",
              "0  0.496626  0.000000  0.914725  0.0  0.433057  1.324231  4.868632  2.734160   \n",
              "1  0.000000  0.000000  0.000000  0.0  0.000000  0.000000  0.310611  0.765199   \n",
              "2  0.000000  0.000000  0.000000  0.0  0.000000  0.000000  0.000000  0.000000   \n",
              "3  0.431890  0.806395  0.000000  0.0  0.000000  0.000000  0.000000  0.000000   \n",
              "4  0.544932  0.000000  0.000000  0.0  0.000000  0.000000  0.000000  0.000000   \n",
              "\n",
              "          8         9  ...        14        15        16        17        18  \\\n",
              "0  3.421292  7.286055  ...  3.801252  1.897374  1.959149  2.420227  1.276595   \n",
              "1  1.774062  2.035192  ...  2.702849  1.566188  3.305524  0.000000  0.282057   \n",
              "2  0.456308  0.000000  ...  0.891974  0.000000  0.457934  0.888355  0.814263   \n",
              "3  0.000000  0.431890  ...  0.337316  0.297779  0.646837  0.000000  0.531511   \n",
              "4  0.000000  2.143062  ...  0.000000  0.000000  0.000000  0.000000  2.104470   \n",
              "\n",
              "         19        20        21        22       23  \n",
              "0  0.334927  0.000000  1.242478  0.565013  0.00000  \n",
              "1  0.257850  0.000000  0.000000  0.334116  0.00000  \n",
              "2  0.000000  0.000000  0.000000  0.000000  0.00000  \n",
              "3  0.408432  0.000000  0.000000  0.857291  0.37517  \n",
              "4  2.424782  0.444243  0.364390  0.000000  0.00000  \n",
              "\n",
              "[5 rows x 24 columns]"
            ],
            "text/html": [
              "\n",
              "  <div id=\"df-867a4699-a163-4113-92b2-781033ecda8e\">\n",
              "    <div class=\"colab-df-container\">\n",
              "      <div>\n",
              "<style scoped>\n",
              "    .dataframe tbody tr th:only-of-type {\n",
              "        vertical-align: middle;\n",
              "    }\n",
              "\n",
              "    .dataframe tbody tr th {\n",
              "        vertical-align: top;\n",
              "    }\n",
              "\n",
              "    .dataframe thead th {\n",
              "        text-align: right;\n",
              "    }\n",
              "</style>\n",
              "<table border=\"1\" class=\"dataframe\">\n",
              "  <thead>\n",
              "    <tr style=\"text-align: right;\">\n",
              "      <th></th>\n",
              "      <th>0</th>\n",
              "      <th>1</th>\n",
              "      <th>2</th>\n",
              "      <th>3</th>\n",
              "      <th>4</th>\n",
              "      <th>5</th>\n",
              "      <th>6</th>\n",
              "      <th>7</th>\n",
              "      <th>8</th>\n",
              "      <th>9</th>\n",
              "      <th>...</th>\n",
              "      <th>14</th>\n",
              "      <th>15</th>\n",
              "      <th>16</th>\n",
              "      <th>17</th>\n",
              "      <th>18</th>\n",
              "      <th>19</th>\n",
              "      <th>20</th>\n",
              "      <th>21</th>\n",
              "      <th>22</th>\n",
              "      <th>23</th>\n",
              "    </tr>\n",
              "  </thead>\n",
              "  <tbody>\n",
              "    <tr>\n",
              "      <th>0</th>\n",
              "      <td>0.496626</td>\n",
              "      <td>0.000000</td>\n",
              "      <td>0.914725</td>\n",
              "      <td>0.0</td>\n",
              "      <td>0.433057</td>\n",
              "      <td>1.324231</td>\n",
              "      <td>4.868632</td>\n",
              "      <td>2.734160</td>\n",
              "      <td>3.421292</td>\n",
              "      <td>7.286055</td>\n",
              "      <td>...</td>\n",
              "      <td>3.801252</td>\n",
              "      <td>1.897374</td>\n",
              "      <td>1.959149</td>\n",
              "      <td>2.420227</td>\n",
              "      <td>1.276595</td>\n",
              "      <td>0.334927</td>\n",
              "      <td>0.000000</td>\n",
              "      <td>1.242478</td>\n",
              "      <td>0.565013</td>\n",
              "      <td>0.00000</td>\n",
              "    </tr>\n",
              "    <tr>\n",
              "      <th>1</th>\n",
              "      <td>0.000000</td>\n",
              "      <td>0.000000</td>\n",
              "      <td>0.000000</td>\n",
              "      <td>0.0</td>\n",
              "      <td>0.000000</td>\n",
              "      <td>0.000000</td>\n",
              "      <td>0.310611</td>\n",
              "      <td>0.765199</td>\n",
              "      <td>1.774062</td>\n",
              "      <td>2.035192</td>\n",
              "      <td>...</td>\n",
              "      <td>2.702849</td>\n",
              "      <td>1.566188</td>\n",
              "      <td>3.305524</td>\n",
              "      <td>0.000000</td>\n",
              "      <td>0.282057</td>\n",
              "      <td>0.257850</td>\n",
              "      <td>0.000000</td>\n",
              "      <td>0.000000</td>\n",
              "      <td>0.334116</td>\n",
              "      <td>0.00000</td>\n",
              "    </tr>\n",
              "    <tr>\n",
              "      <th>2</th>\n",
              "      <td>0.000000</td>\n",
              "      <td>0.000000</td>\n",
              "      <td>0.000000</td>\n",
              "      <td>0.0</td>\n",
              "      <td>0.000000</td>\n",
              "      <td>0.000000</td>\n",
              "      <td>0.000000</td>\n",
              "      <td>0.000000</td>\n",
              "      <td>0.456308</td>\n",
              "      <td>0.000000</td>\n",
              "      <td>...</td>\n",
              "      <td>0.891974</td>\n",
              "      <td>0.000000</td>\n",
              "      <td>0.457934</td>\n",
              "      <td>0.888355</td>\n",
              "      <td>0.814263</td>\n",
              "      <td>0.000000</td>\n",
              "      <td>0.000000</td>\n",
              "      <td>0.000000</td>\n",
              "      <td>0.000000</td>\n",
              "      <td>0.00000</td>\n",
              "    </tr>\n",
              "    <tr>\n",
              "      <th>3</th>\n",
              "      <td>0.431890</td>\n",
              "      <td>0.806395</td>\n",
              "      <td>0.000000</td>\n",
              "      <td>0.0</td>\n",
              "      <td>0.000000</td>\n",
              "      <td>0.000000</td>\n",
              "      <td>0.000000</td>\n",
              "      <td>0.000000</td>\n",
              "      <td>0.000000</td>\n",
              "      <td>0.431890</td>\n",
              "      <td>...</td>\n",
              "      <td>0.337316</td>\n",
              "      <td>0.297779</td>\n",
              "      <td>0.646837</td>\n",
              "      <td>0.000000</td>\n",
              "      <td>0.531511</td>\n",
              "      <td>0.408432</td>\n",
              "      <td>0.000000</td>\n",
              "      <td>0.000000</td>\n",
              "      <td>0.857291</td>\n",
              "      <td>0.37517</td>\n",
              "    </tr>\n",
              "    <tr>\n",
              "      <th>4</th>\n",
              "      <td>0.544932</td>\n",
              "      <td>0.000000</td>\n",
              "      <td>0.000000</td>\n",
              "      <td>0.0</td>\n",
              "      <td>0.000000</td>\n",
              "      <td>0.000000</td>\n",
              "      <td>0.000000</td>\n",
              "      <td>0.000000</td>\n",
              "      <td>0.000000</td>\n",
              "      <td>2.143062</td>\n",
              "      <td>...</td>\n",
              "      <td>0.000000</td>\n",
              "      <td>0.000000</td>\n",
              "      <td>0.000000</td>\n",
              "      <td>0.000000</td>\n",
              "      <td>2.104470</td>\n",
              "      <td>2.424782</td>\n",
              "      <td>0.444243</td>\n",
              "      <td>0.364390</td>\n",
              "      <td>0.000000</td>\n",
              "      <td>0.00000</td>\n",
              "    </tr>\n",
              "  </tbody>\n",
              "</table>\n",
              "<p>5 rows × 24 columns</p>\n",
              "</div>\n",
              "      <button class=\"colab-df-convert\" onclick=\"convertToInteractive('df-867a4699-a163-4113-92b2-781033ecda8e')\"\n",
              "              title=\"Convert this dataframe to an interactive table.\"\n",
              "              style=\"display:none;\">\n",
              "        \n",
              "  <svg xmlns=\"http://www.w3.org/2000/svg\" height=\"24px\"viewBox=\"0 0 24 24\"\n",
              "       width=\"24px\">\n",
              "    <path d=\"M0 0h24v24H0V0z\" fill=\"none\"/>\n",
              "    <path d=\"M18.56 5.44l.94 2.06.94-2.06 2.06-.94-2.06-.94-.94-2.06-.94 2.06-2.06.94zm-11 1L8.5 8.5l.94-2.06 2.06-.94-2.06-.94L8.5 2.5l-.94 2.06-2.06.94zm10 10l.94 2.06.94-2.06 2.06-.94-2.06-.94-.94-2.06-.94 2.06-2.06.94z\"/><path d=\"M17.41 7.96l-1.37-1.37c-.4-.4-.92-.59-1.43-.59-.52 0-1.04.2-1.43.59L10.3 9.45l-7.72 7.72c-.78.78-.78 2.05 0 2.83L4 21.41c.39.39.9.59 1.41.59.51 0 1.02-.2 1.41-.59l7.78-7.78 2.81-2.81c.8-.78.8-2.07 0-2.86zM5.41 20L4 18.59l7.72-7.72 1.47 1.35L5.41 20z\"/>\n",
              "  </svg>\n",
              "      </button>\n",
              "      \n",
              "  <style>\n",
              "    .colab-df-container {\n",
              "      display:flex;\n",
              "      flex-wrap:wrap;\n",
              "      gap: 12px;\n",
              "    }\n",
              "\n",
              "    .colab-df-convert {\n",
              "      background-color: #E8F0FE;\n",
              "      border: none;\n",
              "      border-radius: 50%;\n",
              "      cursor: pointer;\n",
              "      display: none;\n",
              "      fill: #1967D2;\n",
              "      height: 32px;\n",
              "      padding: 0 0 0 0;\n",
              "      width: 32px;\n",
              "    }\n",
              "\n",
              "    .colab-df-convert:hover {\n",
              "      background-color: #E2EBFA;\n",
              "      box-shadow: 0px 1px 2px rgba(60, 64, 67, 0.3), 0px 1px 3px 1px rgba(60, 64, 67, 0.15);\n",
              "      fill: #174EA6;\n",
              "    }\n",
              "\n",
              "    [theme=dark] .colab-df-convert {\n",
              "      background-color: #3B4455;\n",
              "      fill: #D2E3FC;\n",
              "    }\n",
              "\n",
              "    [theme=dark] .colab-df-convert:hover {\n",
              "      background-color: #434B5C;\n",
              "      box-shadow: 0px 1px 3px 1px rgba(0, 0, 0, 0.15);\n",
              "      filter: drop-shadow(0px 1px 2px rgba(0, 0, 0, 0.3));\n",
              "      fill: #FFFFFF;\n",
              "    }\n",
              "  </style>\n",
              "\n",
              "      <script>\n",
              "        const buttonEl =\n",
              "          document.querySelector('#df-867a4699-a163-4113-92b2-781033ecda8e button.colab-df-convert');\n",
              "        buttonEl.style.display =\n",
              "          google.colab.kernel.accessAllowed ? 'block' : 'none';\n",
              "\n",
              "        async function convertToInteractive(key) {\n",
              "          const element = document.querySelector('#df-867a4699-a163-4113-92b2-781033ecda8e');\n",
              "          const dataTable =\n",
              "            await google.colab.kernel.invokeFunction('convertToInteractive',\n",
              "                                                     [key], {});\n",
              "          if (!dataTable) return;\n",
              "\n",
              "          const docLinkHtml = 'Like what you see? Visit the ' +\n",
              "            '<a target=\"_blank\" href=https://colab.research.google.com/notebooks/data_table.ipynb>data table notebook</a>'\n",
              "            + ' to learn more about interactive tables.';\n",
              "          element.innerHTML = '';\n",
              "          dataTable['output_type'] = 'display_data';\n",
              "          await google.colab.output.renderOutput(dataTable, element);\n",
              "          const docLink = document.createElement('div');\n",
              "          docLink.innerHTML = docLinkHtml;\n",
              "          element.appendChild(docLink);\n",
              "        }\n",
              "      </script>\n",
              "    </div>\n",
              "  </div>\n",
              "  "
            ]
          },
          "metadata": {},
          "execution_count": 27
        }
      ]
    },
    {
      "cell_type": "code",
      "source": [
        "cols = []\n",
        "for i in range(23):\n",
        "  a = str(i)\n",
        "  cols.append(a)"
      ],
      "metadata": {
        "id": "EdplViv4hLNz"
      },
      "execution_count": 28,
      "outputs": []
    },
    {
      "cell_type": "code",
      "source": [
        "x_train = final_data_pandas.loc[:, cols]\n",
        "y_train = final_data_pandas.loc[:, ['23']]\n",
        "x_test = final_test_data_pandas.loc[:, cols]\n",
        "y_test = final_test_data_pandas.loc[:, ['23']]"
      ],
      "metadata": {
        "id": "-GurwCephFxr"
      },
      "execution_count": 29,
      "outputs": []
    },
    {
      "cell_type": "code",
      "source": [
        "import tensorflow as tf\n",
        "import tensorflow as keras\n",
        "x_train = tf.keras.utils.normalize(x_train, axis=1)\n",
        "x_test = tf.keras.utils.normalize(x_test, axis=1)\n",
        "y_train = tf.keras.utils.normalize(y_train, axis=1)\n",
        "y_test = tf.keras.utils.normalize(y_test, axis=1)"
      ],
      "metadata": {
        "id": "-oL3_ZOGhUo2"
      },
      "execution_count": 30,
      "outputs": []
    },
    {
      "cell_type": "code",
      "source": [
        "import numpy as np\n",
        "model = tf.keras.models.Sequential()\n",
        "model.add(tf.keras.layers.Flatten())\n",
        "model.add(tf.keras.layers.Dense(128, activation=tf.nn.relu))\n",
        "model.add(tf.keras.layers.Dense(128, activation=tf.nn.relu))\n",
        "model.add(tf.keras.layers.Dense(1, activation=tf.nn.softmax))\n",
        "model.compile(optimizer='adam',loss='mse', metrics=['accuracy'])\n",
        "model.fit(x_train, y_train, epochs=30)"
      ],
      "metadata": {
        "colab": {
          "base_uri": "https://localhost:8080/"
        },
        "id": "AMMKgg70hZXy",
        "outputId": "f9aac56a-d470-4d7b-845e-0dbc415186f6"
      },
      "execution_count": 31,
      "outputs": [
        {
          "output_type": "stream",
          "name": "stdout",
          "text": [
            "Epoch 1/30\n",
            "3451/3451 [==============================] - 8s 2ms/step - loss: 0.6502 - accuracy: 0.3498\n",
            "Epoch 2/30\n",
            "3451/3451 [==============================] - 7s 2ms/step - loss: 0.6502 - accuracy: 0.3498\n",
            "Epoch 3/30\n",
            "3451/3451 [==============================] - 9s 2ms/step - loss: 0.6502 - accuracy: 0.3498\n",
            "Epoch 4/30\n",
            "3451/3451 [==============================] - 7s 2ms/step - loss: 0.6502 - accuracy: 0.3498\n",
            "Epoch 5/30\n",
            "3451/3451 [==============================] - 7s 2ms/step - loss: 0.6502 - accuracy: 0.3498\n",
            "Epoch 6/30\n",
            "3451/3451 [==============================] - 8s 2ms/step - loss: 0.6502 - accuracy: 0.3498\n",
            "Epoch 7/30\n",
            "3451/3451 [==============================] - 7s 2ms/step - loss: 0.6502 - accuracy: 0.3498\n",
            "Epoch 8/30\n",
            "3451/3451 [==============================] - 9s 3ms/step - loss: 0.6502 - accuracy: 0.3498\n",
            "Epoch 9/30\n",
            "3451/3451 [==============================] - 9s 3ms/step - loss: 0.6502 - accuracy: 0.3498\n",
            "Epoch 10/30\n",
            "3451/3451 [==============================] - 8s 2ms/step - loss: 0.6502 - accuracy: 0.3498\n",
            "Epoch 11/30\n",
            "3451/3451 [==============================] - 7s 2ms/step - loss: 0.6502 - accuracy: 0.3498\n",
            "Epoch 12/30\n",
            "3451/3451 [==============================] - 7s 2ms/step - loss: 0.6502 - accuracy: 0.3498\n",
            "Epoch 13/30\n",
            "3451/3451 [==============================] - 7s 2ms/step - loss: 0.6502 - accuracy: 0.3498\n",
            "Epoch 14/30\n",
            "3451/3451 [==============================] - 7s 2ms/step - loss: 0.6502 - accuracy: 0.3498\n",
            "Epoch 15/30\n",
            "3451/3451 [==============================] - 7s 2ms/step - loss: 0.6502 - accuracy: 0.3498\n",
            "Epoch 16/30\n",
            "3451/3451 [==============================] - 7s 2ms/step - loss: 0.6502 - accuracy: 0.3498\n",
            "Epoch 17/30\n",
            "3451/3451 [==============================] - 7s 2ms/step - loss: 0.6502 - accuracy: 0.3498\n",
            "Epoch 18/30\n",
            "3451/3451 [==============================] - 7s 2ms/step - loss: 0.6502 - accuracy: 0.3498\n",
            "Epoch 19/30\n",
            "3451/3451 [==============================] - 8s 2ms/step - loss: 0.6502 - accuracy: 0.3498\n",
            "Epoch 20/30\n",
            "3451/3451 [==============================] - 7s 2ms/step - loss: 0.6502 - accuracy: 0.3498\n",
            "Epoch 21/30\n",
            "3451/3451 [==============================] - 7s 2ms/step - loss: 0.6502 - accuracy: 0.3498\n",
            "Epoch 22/30\n",
            "3451/3451 [==============================] - 7s 2ms/step - loss: 0.6502 - accuracy: 0.3498\n",
            "Epoch 23/30\n",
            "3451/3451 [==============================] - 7s 2ms/step - loss: 0.6502 - accuracy: 0.3498\n",
            "Epoch 24/30\n",
            "3451/3451 [==============================] - 7s 2ms/step - loss: 0.6502 - accuracy: 0.3498\n",
            "Epoch 25/30\n",
            "3451/3451 [==============================] - 7s 2ms/step - loss: 0.6502 - accuracy: 0.3498\n",
            "Epoch 26/30\n",
            "3451/3451 [==============================] - 7s 2ms/step - loss: 0.6502 - accuracy: 0.3498\n",
            "Epoch 27/30\n",
            "3451/3451 [==============================] - 7s 2ms/step - loss: 0.6502 - accuracy: 0.3498\n",
            "Epoch 28/30\n",
            "3451/3451 [==============================] - 7s 2ms/step - loss: 0.6502 - accuracy: 0.3498\n",
            "Epoch 29/30\n",
            "3451/3451 [==============================] - 7s 2ms/step - loss: 0.6502 - accuracy: 0.3498\n",
            "Epoch 30/30\n",
            "3451/3451 [==============================] - 7s 2ms/step - loss: 0.6502 - accuracy: 0.3498\n"
          ]
        },
        {
          "output_type": "execute_result",
          "data": {
            "text/plain": [
              "<keras.callbacks.History at 0x7fb4a79450d0>"
            ]
          },
          "metadata": {},
          "execution_count": 31
        }
      ]
    },
    {
      "cell_type": "code",
      "source": [
        "val_loss, val_acc = model.evaluate(x_test, y_test)\n",
        "print(val_loss, val_acc)"
      ],
      "metadata": {
        "colab": {
          "base_uri": "https://localhost:8080/"
        },
        "id": "xRIchzGOhhRi",
        "outputId": "88fe9182-df67-40a3-e0a5-295d2f25d883"
      },
      "execution_count": 32,
      "outputs": [
        {
          "output_type": "stream",
          "name": "stdout",
          "text": [
            "3444/3444 [==============================] - 5s 1ms/step - loss: 0.6475 - accuracy: 0.3525\n",
            "0.6474747061729431 0.3525252938270569\n"
          ]
        }
      ]
    },
    {
      "cell_type": "markdown",
      "source": [
        "--------------------------------------------------------------------------------"
      ],
      "metadata": {
        "id": "p0IiNJXfWLCr"
      }
    }
  ],
  "metadata": {
    "colab": {
      "collapsed_sections": [],
      "provenance": [],
      "authorship_tag": "ABX9TyN+ITMdbXF3HccN7hMo6WEl",
      "include_colab_link": true
    },
    "kernelspec": {
      "display_name": "Python 3",
      "name": "python3"
    },
    "language_info": {
      "name": "python"
    }
  },
  "nbformat": 4,
  "nbformat_minor": 0
}